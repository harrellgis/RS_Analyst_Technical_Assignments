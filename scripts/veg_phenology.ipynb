{
 "cells": [
  {
   "cell_type": "markdown",
   "id": "0960e5d3",
   "metadata": {},
   "source": [
    "# Set up the environment\n",
    "\n",
    "Before running the notebook, please install the necessary packages and environment by running the following shell commands in your terminal:\n",
    "\n",
    "```bash\n",
    "# Create the conda environment from the provided environment file\n",
    "conda env create -f ../conda_env_pkgs.yml -n soc_model_env\n",
    "\n",
    "# Activate the new environment\n",
    "conda activate soc_model_env\n",
    "\n",
    "# Launch Jupyter Notebook from within the environment\n",
    "jupyter notebook\n"
   ]
  },
  {
   "cell_type": "code",
   "execution_count": 1,
   "id": "e2b91187",
   "metadata": {},
   "outputs": [],
   "source": [
    "import os\n",
    "import sys\n",
    "from dateutil.relativedelta import relativedelta\n",
    "from datetime import datetime\n",
    "#import nbimporter\n",
    "\n",
    "import ee\n",
    "import geemap\n",
    "import xarray\n",
    "\n",
    "import pandas as pd\n",
    "import numpy as np\n",
    "import seaborn as sns\n",
    "import matplotlib.pyplot as plt\n",
    "import matplotlib.dates as mdates\n",
    "\n",
    "from pprint import pprint as pp\n",
    "\n",
    "#Import relevant functions from soc_predictive_model.ipynb\n",
    "#from soc_predictive_model import temporal_filter\n",
    "\n",
    "# Authenticate and Initialize Earth Engine\n",
    "ee.Authenticate()\n",
    "ee.Initialize(project= \"ee-christopherharrellgis\")\n",
    "\n",
    "#Initialize Map\n",
    "Map = geemap.Map()"
   ]
  },
  {
   "cell_type": "markdown",
   "id": "7631d96d",
   "metadata": {},
   "source": [
    "### Data Imports"
   ]
  },
  {
   "cell_type": "code",
   "execution_count": 2,
   "id": "5100f9de",
   "metadata": {},
   "outputs": [
    {
     "data": {
      "text/html": [
       "\n",
       "            <style>\n",
       "                .geemap-dark {\n",
       "                    --jp-widgets-color: white;\n",
       "                    --jp-widgets-label-color: white;\n",
       "                    --jp-ui-font-color1: white;\n",
       "                    --jp-layout-color2: #454545;\n",
       "                    background-color: #383838;\n",
       "                }\n",
       "\n",
       "                .geemap-dark .jupyter-button {\n",
       "                    --jp-layout-color3: #383838;\n",
       "                }\n",
       "\n",
       "                .geemap-colab {\n",
       "                    background-color: var(--colab-primary-surface-color, white);\n",
       "                }\n",
       "\n",
       "                .geemap-colab .jupyter-button {\n",
       "                    --jp-layout-color3: var(--colab-primary-surface-color, white);\n",
       "                }\n",
       "            </style>\n",
       "            "
      ],
      "text/plain": [
       "<IPython.core.display.HTML object>"
      ]
     },
     "metadata": {},
     "output_type": "display_data"
    }
   ],
   "source": [
    "# SOC samples table loaded from earth engine asset\n",
    "soc_sample_points = ee.FeatureCollection(\"users/christopherharrellgis/soc_samples\")\n",
    "\n",
    "# Buffer sample points by 10km and return bounds\n",
    "study_area = soc_sample_points.geometry().bounds().buffer(10000).bounds()\n",
    "\n",
    "# Harmonized Sentinel-2 SR and Cloud Score\n",
    "s2 = ee.ImageCollection('COPERNICUS/S2_SR')\n",
    "s2CloudScore = ee.ImageCollection('GOOGLE/CLOUD_SCORE_PLUS/V1/S2_HARMONIZED')\n",
    "\n",
    "# Landsat \n",
    "ls = ee.ImageCollection(\"LANDSAT/LC08/C02/T1_TOA\")\n",
    "\n",
    "# DEM\n",
    "dem = ee.ImageCollection('COPERNICUS/DEM/GLO30')\n",
    "\n",
    "# CHIRPS Daily\n",
    "chirps = ee.ImageCollection('UCSB-CHG/CHIRPS/DAILY')"
   ]
  },
  {
   "cell_type": "markdown",
   "id": "5c320781",
   "metadata": {},
   "source": [
    "##### Define Global Variables"
   ]
  },
  {
   "cell_type": "code",
   "execution_count": 3,
   "id": "b3181e9a",
   "metadata": {},
   "outputs": [
    {
     "data": {
      "text/html": [
       "\n",
       "            <style>\n",
       "                .geemap-dark {\n",
       "                    --jp-widgets-color: white;\n",
       "                    --jp-widgets-label-color: white;\n",
       "                    --jp-ui-font-color1: white;\n",
       "                    --jp-layout-color2: #454545;\n",
       "                    background-color: #383838;\n",
       "                }\n",
       "\n",
       "                .geemap-dark .jupyter-button {\n",
       "                    --jp-layout-color3: #383838;\n",
       "                }\n",
       "\n",
       "                .geemap-colab {\n",
       "                    background-color: var(--colab-primary-surface-color, white);\n",
       "                }\n",
       "\n",
       "                .geemap-colab .jupyter-button {\n",
       "                    --jp-layout-color3: var(--colab-primary-surface-color, white);\n",
       "                }\n",
       "            </style>\n",
       "            "
      ],
      "text/plain": [
       "<IPython.core.display.HTML object>"
      ]
     },
     "metadata": {},
     "output_type": "display_data"
    }
   ],
   "source": [
    "# Global variables\n",
    "output_data_folder = \"../soc/data/\"\n",
    "\n",
    "# Start/End Dates\n",
    "p1_start_date = \"2022-03-01\"\n",
    "p1_end_date = \"2023-02-28\"\n",
    " \n",
    "p2_start_date = \"2023-03-01\"\n",
    "p2_end_date = \"2024-02-29\"\n",
    "\n",
    "# Sentinel-2\n",
    "S2_QA_BAND = \"cs_cdf\"\n",
    "S2_CLEAR_THRESHOLD = 0.60\n",
    "S2_SCALE_FACTOR = 0.0001\n",
    "\n",
    "# Landsat-9\n",
    "ls_QA_BAND = \"QA_PIXEL\"\n",
    "ls_CLEAR_THRESHOLD = 322\n",
    "ls_SCALE_FACTOR = 0.0000275"
   ]
  },
  {
   "cell_type": "code",
   "execution_count": 38,
   "id": "70c31f1b",
   "metadata": {},
   "outputs": [
    {
     "data": {
      "text/html": [
       "\n",
       "            <style>\n",
       "                .geemap-dark {\n",
       "                    --jp-widgets-color: white;\n",
       "                    --jp-widgets-label-color: white;\n",
       "                    --jp-ui-font-color1: white;\n",
       "                    --jp-layout-color2: #454545;\n",
       "                    background-color: #383838;\n",
       "                }\n",
       "\n",
       "                .geemap-dark .jupyter-button {\n",
       "                    --jp-layout-color3: #383838;\n",
       "                }\n",
       "\n",
       "                .geemap-colab {\n",
       "                    background-color: var(--colab-primary-surface-color, white);\n",
       "                }\n",
       "\n",
       "                .geemap-colab .jupyter-button {\n",
       "                    --jp-layout-color3: var(--colab-primary-surface-color, white);\n",
       "                }\n",
       "            </style>\n",
       "            "
      ],
      "text/plain": [
       "<IPython.core.display.HTML object>"
      ]
     },
     "metadata": {},
     "output_type": "display_data"
    }
   ],
   "source": [
    "def temporal_filter(imageCollection, start_date, end_date):\n",
    "    \"\"\"Filters an ImageCollection by start and end dates\"\"\"\n",
    "    return imageCollection.filterDate(start_date, end_date)\n",
    "\n",
    "def spatial_filter(imageCollection, region):\n",
    "    \"\"\"Filters an ImageCollection by region\"\"\"\n",
    "    return imageCollection.filterBounds(region)\n",
    "\n",
    "def clip_to_roi(image):\n",
    "    return image.clip(study_area)\n",
    "\n",
    "def temporal_reducer(col):\n",
    "    \"\"\"Reduces an ImageCollection over time by computing the mean, 10th and 90th percentiles, and standard deviation for each pixel.\"\"\"\n",
    "    reducer = ee.Reducer.mean() \\\n",
    "    .combine(ee.Reducer.percentile([10, 90]), sharedInputs = True) \\\n",
    "    .combine(ee.Reducer.stdDev(), sharedInputs = True)\n",
    "    return col.reduce(reducer) \n",
    "\n",
    "def print_dataset_info(data):\n",
    "    \"\"\"Prints basic information (name, type, projection, scale, band min/max) about an ee.Image or ee.ImageCollection.\"\"\"\n",
    "    if isinstance(data, ee.ImageCollection):\n",
    "        first_image = ee.Image(data.first())\n",
    "        name = data.get('system:id').getInfo() or 'ImageCollection'\n",
    "    elif isinstance(data, ee.Image):\n",
    "        first_image = data\n",
    "        name = data.get('system:id').getInfo() or 'Image'\n",
    "    else:\n",
    "        raise TypeError(\"Input must be an ee.Image or ee.ImageCollection\")\n",
    "\n",
    "    # Get projection and scale\n",
    "    band = first_image.bandNames().get(0)\n",
    "    band_names = first_image.bandNames().getInfo()\n",
    "    proj = first_image.select([band]).projection()\n",
    "    crs = proj.crs().getInfo()\n",
    "    scale = proj.nominalScale().getInfo()\n",
    "\n",
    "    # Reduce region to get min/max stats per band\n",
    "    region = first_image.geometry().bounds()\n",
    "    stats = first_image.reduceRegion(\n",
    "        reducer=ee.Reducer.minMax(),\n",
    "        geometry=study_area,\n",
    "        scale=scale,\n",
    "        maxPixels=1e8\n",
    "    ).getInfo()\n",
    "\n",
    "    # Organize min/max per band\n",
    "    band_stats = {}\n",
    "    for b in band_names:\n",
    "        min_val = stats.get(f\"{b}_min\", 'N/A')\n",
    "        max_val = stats.get(f\"{b}_max\", 'N/A')\n",
    "        band_stats[b] = {'min': min_val, 'max': max_val}\n",
    "\n",
    "    # Print results\n",
    "    print(f\"Dataset Name: {name}\")\n",
    "    print(f\"Type: {'ImageCollection' if isinstance(data, ee.ImageCollection) else 'Image'}\")\n",
    "    print(f\"Band Names: {band_names}\")\n",
    "    print(f\"CRS: {crs}\")\n",
    "    print(f\"Scale: {scale} meters\")\n",
    "    print(\"Band Min/Max:\")\n",
    "    for b, stats in band_stats.items():\n",
    "        print(f\"  {b}: min={stats['min']}, max={stats['max']}\")\n"
   ]
  },
  {
   "cell_type": "markdown",
   "id": "21b8dc29",
   "metadata": {},
   "source": [
    "#### Sentinel-2 processing"
   ]
  },
  {
   "cell_type": "code",
   "execution_count": 24,
   "id": "31975334",
   "metadata": {},
   "outputs": [
    {
     "data": {
      "text/html": [
       "\n",
       "            <style>\n",
       "                .geemap-dark {\n",
       "                    --jp-widgets-color: white;\n",
       "                    --jp-widgets-label-color: white;\n",
       "                    --jp-ui-font-color1: white;\n",
       "                    --jp-layout-color2: #454545;\n",
       "                    background-color: #383838;\n",
       "                }\n",
       "\n",
       "                .geemap-dark .jupyter-button {\n",
       "                    --jp-layout-color3: #383838;\n",
       "                }\n",
       "\n",
       "                .geemap-colab {\n",
       "                    background-color: var(--colab-primary-surface-color, white);\n",
       "                }\n",
       "\n",
       "                .geemap-colab .jupyter-button {\n",
       "                    --jp-layout-color3: var(--colab-primary-surface-color, white);\n",
       "                }\n",
       "            </style>\n",
       "            "
      ],
      "text/plain": [
       "<IPython.core.display.HTML object>"
      ]
     },
     "metadata": {},
     "output_type": "display_data"
    }
   ],
   "source": [
    "def s2_cloud_mask(image):\n",
    "    \"\"\"Applies a cloud mask based on the QA band using a threshold to identify clear pixels.\"\"\"\n",
    "    return image.select(S2_QA_BAND).gte(S2_CLEAR_THRESHOLD)\n",
    "\n",
    "def calc_ndvi_s2(image):\n",
    "    \"\"\"Calculates the Normalized Difference Vegetation Index (NDVI) from NIR and Red bands.\"\"\"\n",
    "    return image.normalizedDifference(['B8', 'B4']).rename('NDVI')\n",
    "\n",
    "def calc_evi_s2(image):\n",
    "    \"\"\"Calculates the Enhanced Vegetation Index (EVI) from an image and returns it as a single-band image named 'EVI'.\"\"\"\n",
    "    return image.expression(\n",
    "        '2.5 * ((NIR - RED) / (NIR + 6 * RED - 7.5 * BLUE + 1))',\n",
    "        {\n",
    "            'NIR': image.select('B8'),\n",
    "            'RED': image.select('B4'),\n",
    "            'BLUE': image.select('B2')\n",
    "        }\n",
    "    ).rename('EVI')\n",
    "\n",
    "def calc_nirv_s2(image):\n",
    "    ndvi = calc_ndvi_s2(image)\n",
    "    nir = image.select('B8')\n",
    "    return nir.multiply(ndvi).rename('NIRv')\n",
    "\n",
    "def calc_lai_s2(image):\n",
    "    evi = calc_evi_s2(image)\n",
    "    return evi.expression('3.618 * EVI - 0.118', {'EVI': evi}).rename('LAI')\n",
    "\n",
    "def calc_veg_indices_s2(image):\n",
    "    \"\"\"Adds multiple vegetation and water indices (NDVI, EVI, NDWI, MNDWI, SAVI) as bands to the image.\"\"\"\n",
    "    return image.addBands(\n",
    "        [calc_ndvi_s2(image), calc_evi_s2(image), calc_nirv_s2(image), calc_lai_s2(image)]\n",
    "    )\n",
    "\n",
    "def process_s2_image(image):\n",
    "    \"\"\"Processes Sentinel-2 SR image to apply cloud masking, scale, and add NDVI, EVI, NIRv, and LAI.\"\"\"\n",
    "    original = image\n",
    "    mask = s2_cloud_mask(image)\n",
    "    image = image.select([\n",
    "        \"B2\", \"B3\", \"B4\", \"B5\", \"B6\", \"B7\", \"B8\", \"B8A\", \"B11\", \"B12\"]\n",
    "    ).multiply(S2_SCALE_FACTOR)\n",
    "    indices = calc_veg_indices_s2(image).updateMask(mask)\n",
    "    return indices.copyProperties(original, [\"system:time_start\"])\n",
    "\n",
    "def link_s2_collections(col1, col2):\n",
    "    \"\"\"Links a secondary collection (e.g., QA) to a primary Sentinel-2 collection by matching and attaching specified bands.\"\"\"\n",
    "    linked_collection = col1.linkCollection(col2, [S2_QA_BAND])\n",
    "    return linked_collection"
   ]
  },
  {
   "cell_type": "markdown",
   "id": "7e836dcc",
   "metadata": {},
   "source": [
    "#### Landsat 9 Processing"
   ]
  },
  {
   "cell_type": "code",
   "execution_count": 25,
   "id": "3e76aa39",
   "metadata": {},
   "outputs": [
    {
     "data": {
      "text/html": [
       "\n",
       "            <style>\n",
       "                .geemap-dark {\n",
       "                    --jp-widgets-color: white;\n",
       "                    --jp-widgets-label-color: white;\n",
       "                    --jp-ui-font-color1: white;\n",
       "                    --jp-layout-color2: #454545;\n",
       "                    background-color: #383838;\n",
       "                }\n",
       "\n",
       "                .geemap-dark .jupyter-button {\n",
       "                    --jp-layout-color3: #383838;\n",
       "                }\n",
       "\n",
       "                .geemap-colab {\n",
       "                    background-color: var(--colab-primary-surface-color, white);\n",
       "                }\n",
       "\n",
       "                .geemap-colab .jupyter-button {\n",
       "                    --jp-layout-color3: var(--colab-primary-surface-color, white);\n",
       "                }\n",
       "            </style>\n",
       "            "
      ],
      "text/plain": [
       "<IPython.core.display.HTML object>"
      ]
     },
     "metadata": {},
     "output_type": "display_data"
    }
   ],
   "source": [
    "def ls_cloud_mask(image):\n",
    "    \"\"\"Applies a cloud mask based on the QA_PIXEL band using a clear threshold.\"\"\"\n",
    "    return image.select(ls_QA_BAND).gte(ls_CLEAR_THRESHOLD)\n",
    "\n",
    "def calc_ndvi_ls(image):\n",
    "    \"\"\"Calculates NDVI from Landsat 8 bands: NIR (B5) and Red (B4).\"\"\"\n",
    "    return image.normalizedDifference(['SR_B5', 'SR_B4']).rename('NDVI')\n",
    "\n",
    "def calc_evi_ls(image):\n",
    "    \"\"\"Calculates EVI from Landsat 8 bands.\"\"\"\n",
    "    return image.expression(\n",
    "        '2.5 * ((NIR - RED) / (NIR + 6 * RED - 7.5 * BLUE + 1))', {\n",
    "            'NIR': image.select('SR_B5'),\n",
    "            'RED': image.select('SR_B4'),\n",
    "            'BLUE': image.select('SR_B2')\n",
    "        }\n",
    "    ).rename('EVI')\n",
    "\n",
    "def calc_nirv_ls(image):\n",
    "    \"\"\"Calculates NIRv for Landsat 8.\"\"\"\n",
    "    ndvi = calc_ndvi_ls(image)\n",
    "    nir = image.select('SR_B5')\n",
    "    nirv = nir.multiply(ndvi).rename('NIRv')\n",
    "    return image.addBands(nirv)\n",
    "\n",
    "def calc_lai_ls(image):\n",
    "    \"\"\"Estimates LAI from Landsat EVI.\"\"\"\n",
    "    evi = calc_evi_ls(image)\n",
    "    lai = evi.expression('3.618 * EVI - 0.118', {\n",
    "        'EVI': evi\n",
    "    }).rename('LAI')\n",
    "    return image.addBands(lai)\n",
    "\n",
    "def calc_veg_indices_ls(image):\n",
    "    \"\"\"Adds multiple vegetation and water indices (NDVI, EVI, NDWI, MNDWI, SAVI) as bands to the image.\"\"\"\n",
    "    return image.addBands(\n",
    "        [calc_ndvi_ls(image), calc_evi_ls(image), calc_nirv_ls(image), calc_nirv_ls(image)]\n",
    "    )\n",
    "\n",
    "def process_ls_image(image):\n",
    "    \"\"\"Processes Landsat 9 image: cloud mask, scale reflectance, calculate indices and LAI.\"\"\"\n",
    "    original = image\n",
    "    mask = ls_cloud_mask(image)\n",
    "    image = image.select(['SR_B2', 'SR_B3', 'SR_B4', 'SR_B5', 'SR_B6', 'SR_B7']\n",
    "    ).multiply(S2_SCALE_FACTOR)\n",
    "    indices = calc_veg_indices_ls(image).updateMask(mask)\n",
    "    return indices.copyProperties(original, [\"system:time_start\"])"
   ]
  },
  {
   "cell_type": "markdown",
   "id": "83c4d670",
   "metadata": {},
   "source": [
    "#### CHIRPS Precip Processing"
   ]
  },
  {
   "cell_type": "code",
   "execution_count": 26,
   "id": "fc217785",
   "metadata": {},
   "outputs": [
    {
     "data": {
      "text/html": [
       "\n",
       "            <style>\n",
       "                .geemap-dark {\n",
       "                    --jp-widgets-color: white;\n",
       "                    --jp-widgets-label-color: white;\n",
       "                    --jp-ui-font-color1: white;\n",
       "                    --jp-layout-color2: #454545;\n",
       "                    background-color: #383838;\n",
       "                }\n",
       "\n",
       "                .geemap-dark .jupyter-button {\n",
       "                    --jp-layout-color3: #383838;\n",
       "                }\n",
       "\n",
       "                .geemap-colab {\n",
       "                    background-color: var(--colab-primary-surface-color, white);\n",
       "                }\n",
       "\n",
       "                .geemap-colab .jupyter-button {\n",
       "                    --jp-layout-color3: var(--colab-primary-surface-color, white);\n",
       "                }\n",
       "            </style>\n",
       "            "
      ],
      "text/plain": [
       "<IPython.core.display.HTML object>"
      ]
     },
     "metadata": {},
     "output_type": "display_data"
    }
   ],
   "source": [
    "def mean_daily_precip_series(start_date, end_date):\n",
    "    \"\"\"Returns a time series of daily precipitation means using CHIRPS data.\"\"\"\n",
    "    filtered = chirps.filterDate(start_date, end_date)\n",
    "    def extract_mean(img):\n",
    "        stat = img.reduceRegion(\n",
    "            reducer=ee.Reducer.mean(),\n",
    "            geometry=study_area,\n",
    "            scale=5000,\n",
    "            maxPixels=1e13\n",
    "        )\n",
    "        return ee.Feature(None, {'date': img.date().format('YYYY-MM-dd'), 'precip': stat.get('precipitation')})\n",
    "    return ee.FeatureCollection(filtered.map(extract_mean))\n",
    "\n",
    "def plot_mean_daily_precip(feature_collection):\n",
    "    \"\"\"Plots mean daily precipitation from a FEatureCollection of summary statistics.\"\"\"\n",
    "    features = feature_collection.getInfo()['features']\n",
    "    data = [{'date': f['properties']['date'], 'precip': f['properties']['precip']} for f in features]\n",
    "\n",
    "    df = pd.DataFrame(data)\n",
    "    df['date'] = pd.to_datetime(df['date'])\n",
    "    df['precip'] = pd.to_numeric(df['precip'], errors='coerce')\n",
    "\n",
    "    years = sorted(df['date'].dt.year.unique())\n",
    "\n",
    "    plt.figure(figsize=(14, 5))\n",
    "    sns.lineplot(data=df, x='date', y='precip')\n",
    "\n",
    "    plt.axvline(pd.to_datetime(f'{years[0]}-03-15'), color='green', linestyle='--', label='Long Rains')\n",
    "    plt.axvline(pd.to_datetime(f'{years[0]}-06-01'), color='green', linestyle='--')\n",
    "\n",
    "    plt.axvline(pd.to_datetime(f'{years[0]}-10-15'), color='blue', linestyle='--', label='Short Rains')\n",
    "    plt.axvline(pd.to_datetime(f'{years[0]}-12-31'), color='blue', linestyle='--')\n",
    "\n",
    "    plt.gca().xaxis.set_major_locator(mdates.MonthLocator(interval=1))\n",
    "    plt.gca().xaxis.set_major_formatter(mdates.DateFormatter('%b %Y'))\n",
    "    plt.xticks(rotation=45)\n",
    "\n",
    "    plt.title('Daily Mean Precipitation (CHIRPS)')\n",
    "    plt.xlabel('Date')\n",
    "    plt.ylabel('Precipitation (mm)')\n",
    "    plt.grid(True)\n",
    "    plt.legend()\n",
    "    plt.tight_layout()\n",
    "    plt.show()\n",
    "    "
   ]
  },
  {
   "cell_type": "code",
   "execution_count": null,
   "id": "bd21d855",
   "metadata": {},
   "outputs": [],
   "source": [
    "daily_precip_fc_p1 = mean_daily_precip_series(p1_start_date, p1_end_date)\n",
    "plot_mean_daily_precip(daily_precip_fc_p1)"
   ]
  },
  {
   "cell_type": "code",
   "execution_count": null,
   "id": "4cb8524b",
   "metadata": {},
   "outputs": [],
   "source": [
    "daily_precip_fc_p2 = mean_daily_precip_series(p2_start_date, p2_end_date)\n",
    "plot_mean_daily_precip(daily_precip_fc_p2)"
   ]
  },
  {
   "cell_type": "code",
   "execution_count": null,
   "id": "0dff51fe",
   "metadata": {},
   "outputs": [],
   "source": [
    "# Convert to pandas DataFrames\n",
    "def fc_to_df(fc, period_label):\n",
    "    features = fc.getInfo()['features']\n",
    "    data = [{'date': f['properties']['date'], 'precip': f['properties']['precip']} for f in features]\n",
    "    df = pd.DataFrame(data)\n",
    "    df['date'] = pd.to_datetime(df['date'])\n",
    "    df['precip'] = pd.to_numeric(df['precip'], errors='coerce')\n",
    "    df['period'] = period_label\n",
    "    return df\n",
    "\n",
    "df_p1 = fc_to_df(daily_precip_fc_p1, '2022-2023')\n",
    "df_p2 = fc_to_df(daily_precip_fc_p2, '2023-2024')\n",
    "df_all = pd.concat([df_p1, df_p2])\n",
    "\n",
    "# Set up plot\n",
    "plt.figure(figsize=(14, 6))\n",
    "sns.lineplot(data=df_all, x='date', y='precip', hue='period')\n",
    "\n",
    "plt.gca().xaxis.set_major_locator(mdates.MonthLocator(interval=1))\n",
    "plt.gca().xaxis.set_major_formatter(mdates.DateFormatter('%b %Y'))\n",
    "plt.xticks(rotation=45)\n",
    "\n",
    "# Format plot\n",
    "plt.title('Daily Mean Precipitation Comparison (CHIRPS)')\n",
    "plt.xlabel('Date')\n",
    "plt.ylabel('Precipitation (mm)')\n",
    "plt.legend()\n",
    "plt.grid(True)\n",
    "plt.tight_layout()\n",
    "plt.show()"
   ]
  },
  {
   "cell_type": "code",
   "execution_count": 201,
   "id": "4a75f3d8",
   "metadata": {},
   "outputs": [
    {
     "data": {
      "text/html": [
       "\n",
       "            <style>\n",
       "                .geemap-dark {\n",
       "                    --jp-widgets-color: white;\n",
       "                    --jp-widgets-label-color: white;\n",
       "                    --jp-ui-font-color1: white;\n",
       "                    --jp-layout-color2: #454545;\n",
       "                    background-color: #383838;\n",
       "                }\n",
       "\n",
       "                .geemap-dark .jupyter-button {\n",
       "                    --jp-layout-color3: #383838;\n",
       "                }\n",
       "\n",
       "                .geemap-colab {\n",
       "                    background-color: var(--colab-primary-surface-color, white);\n",
       "                }\n",
       "\n",
       "                .geemap-colab .jupyter-button {\n",
       "                    --jp-layout-color3: var(--colab-primary-surface-color, white);\n",
       "                }\n",
       "            </style>\n",
       "            "
      ],
      "text/plain": [
       "<IPython.core.display.HTML object>"
      ]
     },
     "metadata": {},
     "output_type": "display_data"
    }
   ],
   "source": [
    "def calc_sum_precip(col):\n",
    "    \"\"\"Calculates annual total precipitation for a given year.\n",
    "    Returns ee.Image\n",
    "    \"\"\"\n",
    "    reducer = ee.Reducer.sum()\n",
    "    img = col.reduce(reducer)\n",
    "    return img.select(\"precipitation_sum\").rename('TOTAL_PRECIP')\n",
    "\n",
    "def monthly_total_precip(col, start_date, end_date):\n",
    "    \"\"\"Calculates total monthly precipitation between start and end dates using CHIRPS data.\n",
    "    \n",
    "    Returns ee.ImageCollection\n",
    "    \"\"\"\n",
    "    start_dt = datetime.strptime(start_date, '%Y-%m-%d').date()\n",
    "    end_dt = datetime.strptime(end_date, '%Y-%m-%d').date()\n",
    "\n",
    "    monthly_images = []\n",
    "\n",
    "    current = start_dt\n",
    "    while current < end_dt:\n",
    "        next_month = current + relativedelta(months=1)\n",
    "        month_str = current.strftime('%b').upper()\n",
    "\n",
    "        filtered = temporal_filter(col, current.isoformat(), next_month.isoformat())\n",
    "        band_name = f\"{current.year}_{current.strftime('%b').upper()}_TOTAL_PRECIP\"\n",
    "        reducer = ee.Reducer.sum()\n",
    "        img = filtered.reduce(reducer).select(\"precipitation_sum\").rename(band_name)\n",
    "        monthly_images.append(img)\n",
    "        current = next_month\n",
    "\n",
    "    return ee.ImageCollection(monthly_images)\n",
    "\n",
    "def mean_daily_precip_series(start_date, end_date):\n",
    "    \"\"\"Returns a time series of daily precipitation means using CHIRPS data.\"\"\"\n",
    "    filtered = chirps.filterDate(start_date, end_date)\n",
    "    def extract_mean(img):\n",
    "        stat = img.reduceRegion(\n",
    "            reducer=ee.Reducer.mean(),\n",
    "            geometry=study_area,\n",
    "            scale=5000,\n",
    "            maxPixels=1e13\n",
    "        )\n",
    "        return ee.Feature(None, {'date': img.date().format('YYYY-MM-dd'), 'precip': stat.get('precipitation')})\n",
    "    return ee.FeatureCollection(filtered.map(extract_mean))\n",
    "\n",
    "def monthly_total_precip_series(start_date, end_date):\n",
    "    \"\"\"Returns a time series of monthly precipitation means using CHIRPS data.\"\"\"\n",
    "    monthly_precip = monthly_precip_filter(start_date, end_date)\n",
    "\n",
    "    band_names = monthly_precip.bandNames()\n",
    "\n",
    "    def band_to_feature(band_name):\n",
    "        band = ee.String(band_name)\n",
    "        image = monthly_precip.select([band])\n",
    "        mean_dict = image.reduceRegion(\n",
    "            reducer=ee.Reducer.sum(),\n",
    "            geometry=study_area,\n",
    "            scale=5566,  # approx. CHIRPS resolution (~5.5km)\n",
    "            maxPixels=1e13\n",
    "        )\n",
    "        return ee.Feature(None, mean_dict).set('month', band)\n",
    "\n",
    "    features = band_names.map(lambda name: band_to_feature(name))\n",
    "    return ee.FeatureCollection(features)\n"
   ]
  },
  {
   "cell_type": "code",
   "execution_count": 180,
   "id": "46c96723",
   "metadata": {},
   "outputs": [
    {
     "data": {
      "text/html": [
       "\n",
       "            <style>\n",
       "                .geemap-dark {\n",
       "                    --jp-widgets-color: white;\n",
       "                    --jp-widgets-label-color: white;\n",
       "                    --jp-ui-font-color1: white;\n",
       "                    --jp-layout-color2: #454545;\n",
       "                    background-color: #383838;\n",
       "                }\n",
       "\n",
       "                .geemap-dark .jupyter-button {\n",
       "                    --jp-layout-color3: #383838;\n",
       "                }\n",
       "\n",
       "                .geemap-colab {\n",
       "                    background-color: var(--colab-primary-surface-color, white);\n",
       "                }\n",
       "\n",
       "                .geemap-colab .jupyter-button {\n",
       "                    --jp-layout-color3: var(--colab-primary-surface-color, white);\n",
       "                }\n",
       "            </style>\n",
       "            "
      ],
      "text/plain": [
       "<IPython.core.display.HTML object>"
      ]
     },
     "metadata": {},
     "output_type": "display_data"
    }
   ],
   "source": [
    "precip_vis = {\n",
    "    'min': 0,\n",
    "    'max': 300,  # adjust depending on your study region/time span\n",
    "    'palette': [\n",
    "        'ffffff',  # white (0 mm)\n",
    "        'ccebc5',  # very light green\n",
    "        'a8ddb5',  # light green-blue\n",
    "        '7bccc4',  # aqua\n",
    "        '4eb3d3',  # blue\n",
    "        '2b8cbe',  # deep blue\n",
    "        '08589e',  # darker blue\n",
    "        '08306b'   # navy (heavy rainfall)\n",
    "    ]\n",
    "}"
   ]
  },
  {
   "cell_type": "markdown",
   "id": "8d2ef447",
   "metadata": {},
   "source": [
    "#### Processing Remote Sensing Data"
   ]
  },
  {
   "cell_type": "code",
   "execution_count": null,
   "id": "7000836b",
   "metadata": {},
   "outputs": [
    {
     "data": {
      "text/html": [
       "\n",
       "            <style>\n",
       "                .geemap-dark {\n",
       "                    --jp-widgets-color: white;\n",
       "                    --jp-widgets-label-color: white;\n",
       "                    --jp-ui-font-color1: white;\n",
       "                    --jp-layout-color2: #454545;\n",
       "                    background-color: #383838;\n",
       "                }\n",
       "\n",
       "                .geemap-dark .jupyter-button {\n",
       "                    --jp-layout-color3: #383838;\n",
       "                }\n",
       "\n",
       "                .geemap-colab {\n",
       "                    background-color: var(--colab-primary-surface-color, white);\n",
       "                }\n",
       "\n",
       "                .geemap-colab .jupyter-button {\n",
       "                    --jp-layout-color3: var(--colab-primary-surface-color, white);\n",
       "                }\n",
       "            </style>\n",
       "            "
      ],
      "text/plain": [
       "<IPython.core.display.HTML object>"
      ]
     },
     "metadata": {},
     "output_type": "display_data"
    }
   ],
   "source": [
    "# Sentinel-2 SR\n",
    "s2 = spatial_filter(s2, study_area)\n",
    "\n",
    "# P1\n",
    "s2_p1 = temporal_filter(s2, p1_start_date, p1_end_date)\n",
    "s2_linked_p1 = link_s2_collections(s2_p1, s2CloudScore)\n",
    "s2_processed_p1 = s2_linked_p1.map(process_s2_image)\n",
    "\n",
    "s2_ndvi_p1 = s2_processed_p1.map(lambda img: img.clip(study_area)).select('NDVI')\n",
    "s2_evi_p1 = s2_processed_p1.map(lambda img: img.clip(study_area)).select('EVI')\n",
    "s2_nirv_p1 = s2_processed_p1.map(lambda img: img.clip(study_area)).select('NIRv')\n",
    "s2_lai_p1 = s2_processed_p1.map(lambda img: img.clip(study_area)).select('LAI')\n",
    "\n",
    "# P2\n",
    "s2_p2 = temporal_filter(s2, p2_start_date, p2_end_date)\n",
    "s2_linked_p2 = link_s2_collections(s2_p2, s2CloudScore)\n",
    "s2_processed_p2 = s2_linked_p2.map(process_s2_image)\n",
    "\n",
    "s2_ndvi_p2 = s2_processed_p2.map(lambda img: img.clip(study_area)).select('NDVI')\n",
    "s2_evi_p2 = s2_processed_p2.map(lambda img: img.clip(study_area)).select('EVI')\n",
    "s2_nirv_p2 = s2_processed_p2.map(lambda img: img.clip(study_area)).select('NIRv')\n",
    "s2_lai_p2 = s2_processed_p2.map(lambda img: img.clip(study_area)).select('LAI')\n",
    "\n",
    "# Landsat\n",
    "ls = spatial_filter(ls, study_area)\n",
    "\n",
    "# P2\n",
    "ls_p1 = temporal_filter(ls, p1_start_date, p1_end_date)\n",
    "ls_p1_processed = ls_p1.map(process_ls_image)\n",
    "\n",
    "ls_p2 = temporal_filter(ls, p2_start_date, p2_end_date)\n",
    "ls_p2_processed = ls_p2.map(process_ls_image)\n",
    "\n",
    "# CHIRPS\n",
    "chirps = spatial_filter(chirps, study_area)\n",
    "\n",
    "# P1 \n",
    "chirps = spatial_filter(chirps, study_area)\n"
   ]
  },
  {
   "cell_type": "code",
   "execution_count": null,
   "id": "9771939f",
   "metadata": {},
   "outputs": [],
   "source": [
    "ndvi_vis = {\n",
    "    'min': -1,\n",
    "    'max': 1,\n",
    "    'palette': [\n",
    "        'blue',     # very low NDVI\n",
    "        'white',    # neutral\n",
    "        'green'     # high NDVI\n",
    "    ]\n",
    "}\n",
    "\n",
    "Map.addLayer(s2_ndvi_p1, ndvi_vis, 'NDVI test', False)\n",
    "Map"
   ]
  },
  {
   "cell_type": "markdown",
   "id": "be7eaecc",
   "metadata": {},
   "source": [
    "#### NDVI"
   ]
  },
  {
   "cell_type": "code",
   "execution_count": null,
   "id": "8059e3dc",
   "metadata": {},
   "outputs": [
    {
     "data": {
      "text/html": [
       "\n",
       "            <style>\n",
       "                .geemap-dark {\n",
       "                    --jp-widgets-color: white;\n",
       "                    --jp-widgets-label-color: white;\n",
       "                    --jp-ui-font-color1: white;\n",
       "                    --jp-layout-color2: #454545;\n",
       "                    background-color: #383838;\n",
       "                }\n",
       "\n",
       "                .geemap-dark .jupyter-button {\n",
       "                    --jp-layout-color3: #383838;\n",
       "                }\n",
       "\n",
       "                .geemap-colab {\n",
       "                    background-color: var(--colab-primary-surface-color, white);\n",
       "                }\n",
       "\n",
       "                .geemap-colab .jupyter-button {\n",
       "                    --jp-layout-color3: var(--colab-primary-surface-color, white);\n",
       "                }\n",
       "            </style>\n",
       "            "
      ],
      "text/plain": [
       "<IPython.core.display.HTML object>"
      ]
     },
     "metadata": {},
     "output_type": "display_data"
    }
   ],
   "source": [
    "ndvi_p1 = xarray.open_dataset(s2_ndvi_p1, engine='ee', crs='EPSG:4326', scale=0.00027, geometry=study_area)\n",
    "ndvi_p1 = ndvi_p1.sortby('time')\n",
    "\n",
    "p1_monthly_ndvi = ndvi_p1.resample(time = 'M').mean('time')\n",
    "p1_monthly_ndvi.NDVI.plot(x='lon', y='lat', col='time', col_wrap=4, robust=True)"
   ]
  },
  {
   "cell_type": "code",
   "execution_count": null,
   "id": "2036bb78",
   "metadata": {},
   "outputs": [],
   "source": [
    "ndvi_p2 = xarray.open_dataset(s2_ndvi_p2, engine='ee', crs='EPSG:4326', scale=0.00027, geometry=study_area)\n",
    "ndvi_p2 = ndvi_p2.sortby('time')\n",
    "\n",
    "p2_monthly_ndvi = ndvi_p2.resample(time = 'M').mean('time')\n",
    "p2_monthly_ndvi.NDVI.plot(x='lon', y='lat', col='time', col_wrap=4, robust=True)"
   ]
  },
  {
   "cell_type": "markdown",
   "id": "98090964",
   "metadata": {},
   "source": [
    "#### EVI"
   ]
  },
  {
   "cell_type": "code",
   "execution_count": null,
   "id": "f6f38364",
   "metadata": {},
   "outputs": [],
   "source": [
    "evi_p1 = xarray.open_dataset(s2_evi_p1, engine='ee', crs='EPSG:4326', scale=0.00027, geometry=study_area)\n",
    "evi_p1 = evi_p1.sortby('time')\n",
    "\n",
    "p1_monthly_evi = evi_p1.resample(time = 'M').mean('time')\n",
    "p1_monthly_evi.EVI.plot(x='lon', y='lat', col='time', col_wrap=4, robust=True)"
   ]
  },
  {
   "cell_type": "code",
   "execution_count": null,
   "id": "18aaea2c",
   "metadata": {},
   "outputs": [],
   "source": [
    "evi_p2 = xarray.open_dataset(s2_evi_p2, engine='ee', crs='EPSG:4326', scale=0.00027, geometry=study_area)\n",
    "evi_p2 = evi_p2.sortby('time')\n",
    "\n",
    "p2_monthly_evi = evi_p2.resample(time = 'M').mean('time')\n",
    "p2_monthly_evi.EVI.plot(x='lon', y='lat', col='time', col_wrap=4, robust=True)"
   ]
  },
  {
   "cell_type": "markdown",
   "id": "b6d8d59f",
   "metadata": {},
   "source": [
    "#### NIRv"
   ]
  },
  {
   "cell_type": "code",
   "execution_count": null,
   "id": "4baea635",
   "metadata": {},
   "outputs": [],
   "source": [
    "nirv_p1 = xarray.open_dataset(s2_nirv_p1, engine='ee', crs='EPSG:4326', scale=0.00027, geometry=study_area)\n",
    "nirv_p1 = nirv_p1.sortby('time')\n",
    "\n",
    "p1_monthly_nirv = nirv_p1.resample(time = 'M').mean('time')\n",
    "p1_monthly_nirv.NIRv.plot(x='lon', y='lat', col='time', col_wrap=4, robust=True)"
   ]
  },
  {
   "cell_type": "code",
   "execution_count": null,
   "id": "6119c4b3",
   "metadata": {},
   "outputs": [],
   "source": [
    "nirv_p2 = xarray.open_dataset(s2_nirv_p2, engine='ee', crs='EPSG:4326', scale=0.00027, geometry=study_area)\n",
    "nirv_p2 = nirv_p2.sortby('time')\n",
    "\n",
    "p2_monthly_nirv = nirv_p2.resample(time = 'M').mean('time')\n",
    "p2_monthly_nirv.NIRv.plot(x='lon', y='lat', col='time', col_wrap=4, robust=True)"
   ]
  },
  {
   "cell_type": "markdown",
   "id": "ef462ece",
   "metadata": {},
   "source": [
    "#### LAI"
   ]
  },
  {
   "cell_type": "code",
   "execution_count": null,
   "id": "0fc2b16a",
   "metadata": {},
   "outputs": [],
   "source": [
    "lai_p1 = xarray.open_dataset(s2_lai_p1, engine='ee', crs='EPSG:4326', scale=0.00027, geometry=study_area)\n",
    "lai_p1 = lai_p1.sortby('time')\n",
    "\n",
    "p1_monthly_lai = lai_p1.resample(time = 'M').mean('time')\n",
    "p1_monthly_lai.LAI.plot(x='lon', y='lat', col='time', col_wrap=4, robust=True)"
   ]
  },
  {
   "cell_type": "code",
   "execution_count": null,
   "id": "7d38589f",
   "metadata": {},
   "outputs": [],
   "source": [
    "lai_p2 = xarray.open_dataset(s2_lai_p2, engine='ee', crs='EPSG:4326', scale=0.00027, geometry=study_area)\n",
    "lai_p2 = lai_p2.sortby('time')\n",
    "\n",
    "p2_monthly_lai = lai_p2.resample(time = 'M').mean('time')\n",
    "p2_monthly_lai.LAI.plot(x='lon', y='lat', col='time', col_wrap=4, robust=True)"
   ]
  }
 ],
 "metadata": {
  "kernelspec": {
   "display_name": "rs_environ",
   "language": "python",
   "name": "python3"
  },
  "language_info": {
   "codemirror_mode": {
    "name": "ipython",
    "version": 3
   },
   "file_extension": ".py",
   "mimetype": "text/x-python",
   "name": "python",
   "nbconvert_exporter": "python",
   "pygments_lexer": "ipython3",
   "version": "3.13.2"
  }
 },
 "nbformat": 4,
 "nbformat_minor": 5
}
