{
 "cells": [
  {
   "cell_type": "code",
   "execution_count": null,
   "id": "5bff8f5b",
   "metadata": {},
   "outputs": [
    {
     "ename": "EEException",
     "evalue": "Not signed up for Earth Engine or project is not registered. Visit https://developers.google.com/earth-engine/guides/access",
     "output_type": "error",
     "traceback": [
      "\u001b[31m---------------------------------------------------------------------------\u001b[39m",
      "\u001b[31mHttpError\u001b[39m                                 Traceback (most recent call last)",
      "\u001b[36mFile \u001b[39m\u001b[32mc:\\Users\\harre\\miniconda3\\envs\\rs_environ\\Lib\\site-packages\\ee\\data.py:408\u001b[39m, in \u001b[36m_execute_cloud_call\u001b[39m\u001b[34m(call, num_retries)\u001b[39m\n\u001b[32m    407\u001b[39m \u001b[38;5;28;01mtry\u001b[39;00m:\n\u001b[32m--> \u001b[39m\u001b[32m408\u001b[39m   \u001b[38;5;28;01mreturn\u001b[39;00m call.execute(num_retries=num_retries)\n\u001b[32m    409\u001b[39m \u001b[38;5;28;01mexcept\u001b[39;00m googleapiclient.errors.HttpError \u001b[38;5;28;01mas\u001b[39;00m e:\n",
      "\u001b[36mFile \u001b[39m\u001b[32mc:\\Users\\harre\\miniconda3\\envs\\rs_environ\\Lib\\site-packages\\googleapiclient\\_helpers.py:130\u001b[39m, in \u001b[36mpositional.<locals>.positional_decorator.<locals>.positional_wrapper\u001b[39m\u001b[34m(*args, **kwargs)\u001b[39m\n\u001b[32m    129\u001b[39m         logger.warning(message)\n\u001b[32m--> \u001b[39m\u001b[32m130\u001b[39m \u001b[38;5;28;01mreturn\u001b[39;00m wrapped(*args, **kwargs)\n",
      "\u001b[36mFile \u001b[39m\u001b[32mc:\\Users\\harre\\miniconda3\\envs\\rs_environ\\Lib\\site-packages\\googleapiclient\\http.py:938\u001b[39m, in \u001b[36mHttpRequest.execute\u001b[39m\u001b[34m(self, http, num_retries)\u001b[39m\n\u001b[32m    937\u001b[39m \u001b[38;5;28;01mif\u001b[39;00m resp.status >= \u001b[32m300\u001b[39m:\n\u001b[32m--> \u001b[39m\u001b[32m938\u001b[39m     \u001b[38;5;28;01mraise\u001b[39;00m HttpError(resp, content, uri=\u001b[38;5;28mself\u001b[39m.uri)\n\u001b[32m    939\u001b[39m \u001b[38;5;28;01mreturn\u001b[39;00m \u001b[38;5;28mself\u001b[39m.postproc(resp, content)\n",
      "\u001b[31mHttpError\u001b[39m: <HttpError 403 when requesting https://earthengine.googleapis.com/v1/projects/517222506229/algorithms?prettyPrint=false&alt=json returned \"Not signed up for Earth Engine or project is not registered. Visit https://developers.google.com/earth-engine/guides/access\". Details: \"Not signed up for Earth Engine or project is not registered. Visit https://developers.google.com/earth-engine/guides/access\">",
      "\nDuring handling of the above exception, another exception occurred:\n",
      "\u001b[31mEEException\u001b[39m                               Traceback (most recent call last)",
      "\u001b[36mCell\u001b[39m\u001b[36m \u001b[39m\u001b[32mIn[1]\u001b[39m\u001b[32m, line 11\u001b[39m\n\u001b[32m      8\u001b[39m \u001b[38;5;28;01mfrom\u001b[39;00m\u001b[38;5;250m \u001b[39m\u001b[34;01msklearn\u001b[39;00m\u001b[34;01m.\u001b[39;00m\u001b[34;01mmetrics\u001b[39;00m\u001b[38;5;250m \u001b[39m\u001b[38;5;28;01mimport\u001b[39;00m mean_squared_error, r2_score\n\u001b[32m     10\u001b[39m \u001b[38;5;66;03m# Initialize Earth Engine\u001b[39;00m\n\u001b[32m---> \u001b[39m\u001b[32m11\u001b[39m ee.Initialize()\n\u001b[32m     13\u001b[39m \u001b[38;5;66;03m# Optional: Display map\u001b[39;00m\n\u001b[32m     14\u001b[39m Map = geemap.Map()\n",
      "\u001b[36mFile \u001b[39m\u001b[32mc:\\Users\\harre\\miniconda3\\envs\\rs_environ\\Lib\\site-packages\\ee\\_utils.py:38\u001b[39m, in \u001b[36maccept_opt_prefix.<locals>.opt_fixed.<locals>.wrapper\u001b[39m\u001b[34m(*args, **kwargs)\u001b[39m\n\u001b[32m     36\u001b[39m     \u001b[38;5;28;01mif\u001b[39;00m new_key \u001b[38;5;129;01mnot\u001b[39;00m \u001b[38;5;129;01min\u001b[39;00m kwargs:\n\u001b[32m     37\u001b[39m       kwargs[new_key] = old_key_val\n\u001b[32m---> \u001b[39m\u001b[32m38\u001b[39m \u001b[38;5;28;01mreturn\u001b[39;00m func(*args, **kwargs)\n",
      "\u001b[36mFile \u001b[39m\u001b[32mc:\\Users\\harre\\miniconda3\\envs\\rs_environ\\Lib\\site-packages\\ee\\__init__.py:232\u001b[39m, in \u001b[36mInitialize\u001b[39m\u001b[34m(credentials, url, cloud_api_key, http_transport, project)\u001b[39m\n\u001b[32m    226\u001b[39m   \u001b[38;5;28;01mif\u001b[39;00m (\n\u001b[32m    227\u001b[39m       (adc_err \u001b[38;5;129;01min\u001b[39;00m \u001b[38;5;28mstr\u001b[39m(e))\n\u001b[32m    228\u001b[39m       \u001b[38;5;129;01mor\u001b[39;00m (matches \u001b[38;5;129;01mand\u001b[39;00m oauth.is_sdk_project(matches[\u001b[32m1\u001b[39m]))\n\u001b[32m    229\u001b[39m       \u001b[38;5;129;01mor\u001b[39;00m (oauth_project_err \u001b[38;5;129;01min\u001b[39;00m \u001b[38;5;28mstr\u001b[39m(e))\n\u001b[32m    230\u001b[39m   ):\n\u001b[32m    231\u001b[39m     \u001b[38;5;28;01mraise\u001b[39;00m EEException(NO_PROJECT_EXCEPTION) \u001b[38;5;28;01mfrom\u001b[39;00m\u001b[38;5;250m \u001b[39m\u001b[38;5;28;01mNone\u001b[39;00m\n\u001b[32m--> \u001b[39m\u001b[32m232\u001b[39m   \u001b[38;5;28;01mraise\u001b[39;00m e\n\u001b[32m    234\u001b[39m \u001b[38;5;28;01mfor\u001b[39;00m dynamic_class \u001b[38;5;129;01min\u001b[39;00m _DYNAMIC_CLASSES:\n\u001b[32m    235\u001b[39m   dynamic_class.initialize()\n",
      "\u001b[36mFile \u001b[39m\u001b[32mc:\\Users\\harre\\miniconda3\\envs\\rs_environ\\Lib\\site-packages\\ee\\__init__.py:214\u001b[39m, in \u001b[36mInitialize\u001b[39m\u001b[34m(credentials, url, cloud_api_key, http_transport, project)\u001b[39m\n\u001b[32m    212\u001b[39m \u001b[38;5;66;03m# Initialize the dynamically loaded functions on the objects that want them.\u001b[39;00m\n\u001b[32m    213\u001b[39m \u001b[38;5;28;01mtry\u001b[39;00m:\n\u001b[32m--> \u001b[39m\u001b[32m214\u001b[39m   ApiFunction.initialize()\n\u001b[32m    215\u001b[39m \u001b[38;5;28;01mexcept\u001b[39;00m EEException \u001b[38;5;28;01mas\u001b[39;00m e:\n\u001b[32m    216\u001b[39m   \u001b[38;5;66;03m# We tried to detect missing projects before initialization, but some cases\u001b[39;00m\n\u001b[32m    217\u001b[39m   \u001b[38;5;66;03m# like Colab hide the project, so check errors from missing projects too.\u001b[39;00m\n\u001b[32m    218\u001b[39m   adc_err = \u001b[33m'\u001b[39m\u001b[33mauthenticating by using local Application Default Credentials\u001b[39m\u001b[33m'\u001b[39m\n",
      "\u001b[36mFile \u001b[39m\u001b[32mc:\\Users\\harre\\miniconda3\\envs\\rs_environ\\Lib\\site-packages\\ee\\apifunction.py:161\u001b[39m, in \u001b[36mApiFunction.initialize\u001b[39m\u001b[34m(cls)\u001b[39m\n\u001b[32m    159\u001b[39m \u001b[38;5;250m\u001b[39m\u001b[33;03m\"\"\"Initializes the list of signatures from the Earth Engine front-end.\"\"\"\u001b[39;00m\n\u001b[32m    160\u001b[39m \u001b[38;5;28;01mif\u001b[39;00m \u001b[38;5;129;01mnot\u001b[39;00m \u001b[38;5;28mcls\u001b[39m._api:\n\u001b[32m--> \u001b[39m\u001b[32m161\u001b[39m   signatures = data.getAlgorithms()\n\u001b[32m    162\u001b[39m   api = {}\n\u001b[32m    163\u001b[39m   \u001b[38;5;28;01mfor\u001b[39;00m name, sig \u001b[38;5;129;01min\u001b[39;00m signatures.items():\n\u001b[32m    164\u001b[39m     \u001b[38;5;66;03m# Strip type parameters.\u001b[39;00m\n",
      "\u001b[36mFile \u001b[39m\u001b[32mc:\\Users\\harre\\miniconda3\\envs\\rs_environ\\Lib\\site-packages\\ee\\data.py:1499\u001b[39m, in \u001b[36mgetAlgorithms\u001b[39m\u001b[34m()\u001b[39m\n\u001b[32m   1494\u001b[39m     \u001b[38;5;28mprint\u001b[39m(\n\u001b[32m   1495\u001b[39m         \u001b[33m'\u001b[39m\u001b[33m*** Earth Engine ***\u001b[39m\u001b[33m'\u001b[39m,\n\u001b[32m   1496\u001b[39m         response[_INIT_MESSAGE_HEADER],\n\u001b[32m   1497\u001b[39m         file=sys.stderr)\n\u001b[32m   1498\u001b[39m call.add_response_callback(inspect)\n\u001b[32m-> \u001b[39m\u001b[32m1499\u001b[39m \u001b[38;5;28;01mreturn\u001b[39;00m _cloud_api_utils.convert_algorithms(_execute_cloud_call(call))\n",
      "\u001b[36mFile \u001b[39m\u001b[32mc:\\Users\\harre\\miniconda3\\envs\\rs_environ\\Lib\\site-packages\\ee\\data.py:410\u001b[39m, in \u001b[36m_execute_cloud_call\u001b[39m\u001b[34m(call, num_retries)\u001b[39m\n\u001b[32m    408\u001b[39m   \u001b[38;5;28;01mreturn\u001b[39;00m call.execute(num_retries=num_retries)\n\u001b[32m    409\u001b[39m \u001b[38;5;28;01mexcept\u001b[39;00m googleapiclient.errors.HttpError \u001b[38;5;28;01mas\u001b[39;00m e:\n\u001b[32m--> \u001b[39m\u001b[32m410\u001b[39m   \u001b[38;5;28;01mraise\u001b[39;00m _translate_cloud_exception(e)\n",
      "\u001b[31mEEException\u001b[39m: Not signed up for Earth Engine or project is not registered. Visit https://developers.google.com/earth-engine/guides/access"
     ]
    }
   ],
   "source": [
    "import ee\n",
    "import geemap\n",
    "import pandas as pd\n",
    "import numpy as np\n",
    "from sklearn.ensemble import RandomForestRegressor\n",
    "from sklearn.model_selection import train_test_split\n",
    "from sklearn.feature_selection import RFE\n",
    "from sklearn.metrics import mean_squared_error, r2_score\n",
    "\n",
    "# Authenticate and Initialize Earth Engine\n",
    "ee.Authenticate()\n",
    "ee.Initialize(project= \"ee-christopherharrellgis\")\n",
    "\n",
    "# Optional: Display map\n",
    "Map = geemap.Map()\n",
    "Map"
   ]
  },
  {
   "cell_type": "code",
   "execution_count": null,
   "id": "b991cc5d",
   "metadata": {},
   "outputs": [],
   "source": []
  }
 ],
 "metadata": {
  "kernelspec": {
   "display_name": "rs_environ",
   "language": "python",
   "name": "python3"
  },
  "language_info": {
   "codemirror_mode": {
    "name": "ipython",
    "version": 3
   },
   "file_extension": ".py",
   "mimetype": "text/x-python",
   "name": "python",
   "nbconvert_exporter": "python",
   "pygments_lexer": "ipython3",
   "version": "3.13.2"
  }
 },
 "nbformat": 4,
 "nbformat_minor": 5
}
