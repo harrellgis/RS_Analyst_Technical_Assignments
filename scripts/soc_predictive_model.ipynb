{
 "cells": [
  {
   "cell_type": "markdown",
   "id": "ee0bdc36",
   "metadata": {},
   "source": [
    "# Set up the environment\n",
    "\n",
    "Before running the notebook, please install the necessary packages and environment by running the following shell commands in your terminal:\n",
    "\n",
    "```bash\n",
    "# Create the conda environment from the provided environment file\n",
    "conda env create -f ../conda_env_pkgs.yml -n soc_model_env\n",
    "\n",
    "# Activate the new environment\n",
    "conda activate soc_model_env\n",
    "\n",
    "# Launch Jupyter Notebook (or JupyterLab) from within the environment\n",
    "jupyter notebook\n"
   ]
  },
  {
   "cell_type": "code",
   "execution_count": 87,
   "id": "5bff8f5b",
   "metadata": {},
   "outputs": [
    {
     "data": {
      "text/html": [
       "\n",
       "            <style>\n",
       "                .geemap-dark {\n",
       "                    --jp-widgets-color: white;\n",
       "                    --jp-widgets-label-color: white;\n",
       "                    --jp-ui-font-color1: white;\n",
       "                    --jp-layout-color2: #454545;\n",
       "                    background-color: #383838;\n",
       "                }\n",
       "\n",
       "                .geemap-dark .jupyter-button {\n",
       "                    --jp-layout-color3: #383838;\n",
       "                }\n",
       "\n",
       "                .geemap-colab {\n",
       "                    background-color: var(--colab-primary-surface-color, white);\n",
       "                }\n",
       "\n",
       "                .geemap-colab .jupyter-button {\n",
       "                    --jp-layout-color3: var(--colab-primary-surface-color, white);\n",
       "                }\n",
       "            </style>\n",
       "            "
      ],
      "text/plain": [
       "<IPython.core.display.HTML object>"
      ]
     },
     "metadata": {},
     "output_type": "display_data"
    },
    {
     "data": {
      "application/vnd.jupyter.widget-view+json": {
       "model_id": "0a80d9c8076c45c192ca8ec5ec2ee1e6",
       "version_major": 2,
       "version_minor": 0
      },
      "text/plain": [
       "Map(center=[0, 0], controls=(WidgetControl(options=['position', 'transparent_bg'], widget=SearchDataGUI(childr…"
      ]
     },
     "execution_count": 87,
     "metadata": {},
     "output_type": "execute_result"
    }
   ],
   "source": [
    "import json\n",
    "import ee\n",
    "import geemap\n",
    "import pandas as pd\n",
    "import numpy as np\n",
    "from sklearn.ensemble import RandomForestRegressor\n",
    "from sklearn.model_selection import train_test_split\n",
    "from sklearn.feature_selection import RFE\n",
    "from sklearn.metrics import mean_squared_error, r2_score\n",
    "\n",
    "# Authenticate and Initialize Earth Engine\n",
    "ee.Authenticate()\n",
    "ee.Initialize(project= \"ee-christopherharrellgis\")\n",
    "\n",
    "# Optional: Display map\n",
    "#Map = geemap.Map(basemap = \"SATELLITE\")\n",
    "Map = geemap.Map()\n",
    "Map"
   ]
  },
  {
   "cell_type": "markdown",
   "id": "475e3caa",
   "metadata": {},
   "source": [
    "#### Import SOC Samples and Study Area as Feature Collections"
   ]
  },
  {
   "cell_type": "code",
   "execution_count": 39,
   "id": "b991cc5d",
   "metadata": {},
   "outputs": [
    {
     "data": {
      "text/html": [
       "\n",
       "            <style>\n",
       "                .geemap-dark {\n",
       "                    --jp-widgets-color: white;\n",
       "                    --jp-widgets-label-color: white;\n",
       "                    --jp-ui-font-color1: white;\n",
       "                    --jp-layout-color2: #454545;\n",
       "                    background-color: #383838;\n",
       "                }\n",
       "\n",
       "                .geemap-dark .jupyter-button {\n",
       "                    --jp-layout-color3: #383838;\n",
       "                }\n",
       "\n",
       "                .geemap-colab {\n",
       "                    background-color: var(--colab-primary-surface-color, white);\n",
       "                }\n",
       "\n",
       "                .geemap-colab .jupyter-button {\n",
       "                    --jp-layout-color3: var(--colab-primary-surface-color, white);\n",
       "                }\n",
       "            </style>\n",
       "            "
      ],
      "text/plain": [
       "<IPython.core.display.HTML object>"
      ]
     },
     "metadata": {},
     "output_type": "display_data"
    }
   ],
   "source": [
    "# Create a FeatureCollection from SOC_samples.csv\n",
    "def create_feature_collection(df):\n",
    "    features = []\n",
    "    for idx, row in df.iterrows():\n",
    "        point = ee.Geometry.Point([row['longitude'], row['latitude']])\n",
    "        feature = ee.Feature(point, {\n",
    "            'plot_no': row['plot_no'],\n",
    "            'MgC_per_ha': row['MgC_per_ha'],\n",
    "            'MgC_SE': row['MgC_SE']\n",
    "        })\n",
    "        features.append(feature)\n",
    "    return ee.FeatureCollection(features)\n",
    "\n",
    "# Load the study area GeoJSON file\n",
    "study_area_geojson = '../soc/data/study_area.geojson'\n",
    "\n",
    "# Load the SOC sample table\n",
    "soc_samples_df = pd.read_csv(\"../soc/data/SOC_samples.csv\")\n",
    "\n",
    "with open(study_area_geojson) as f:\n",
    "    geojson_data = json.load(f)\n",
    "\n",
    "# Convert the study area to an Earth Engine FeatureCollection\n",
    "study_area = ee.FeatureCollection(geojson_data)\n",
    "\n",
    "soc_samples_points = create_feature_collection(soc_samples_df)\n",
    "\n",
    "Map.addLayer(study_area, {'color': 'red'}, 'Study Area')\n",
    "Map.addLayer(soc_samples_points, {'color': 'yellow'}, 'Sample Points')\n",
    "Map.centerObject(study_area, zoom=11)"
   ]
  },
  {
   "cell_type": "code",
   "execution_count": null,
   "id": "3de8d62c",
   "metadata": {},
   "outputs": [],
   "source": [
    "\"\"\" wdpa = ee.FeatureCollection('WCMC/WDPA/current/polygons')\n",
    "\n",
    "# Filter WDPA features that spatially intersect with your study area\n",
    "overlapping_pas = wdpa.filter(ee.Filter.intersects('.geo', soc_samples_points.geometry()))\n",
    "\n",
    "# Get the list of names\n",
    "protected_areas_with_names = overlapping_pas.filter(ee.Filter.notNull(['NAME']))\n",
    "\n",
    "# Get the names as a list\n",
    "protected_area_names = protected_areas_with_names.aggregate_array('NAME')\n",
    "\n",
    "# Print the names of protected areas that contain sample points\n",
    "print('Protected Areas containing sample points:')\n",
    "print(protected_area_names.getInfo())\n",
    "\n",
    "Map.addLayer(overlapping_pas, {'color': 'blue'}, 'PAS') \"\"\""
   ]
  },
  {
   "cell_type": "markdown",
   "id": "daa5dc27",
   "metadata": {},
   "source": [
    "#### Generate ImageCollection for covariates"
   ]
  },
  {
   "cell_type": "code",
   "execution_count": 75,
   "id": "296c8782",
   "metadata": {},
   "outputs": [
    {
     "data": {
      "text/html": [
       "\n",
       "            <style>\n",
       "                .geemap-dark {\n",
       "                    --jp-widgets-color: white;\n",
       "                    --jp-widgets-label-color: white;\n",
       "                    --jp-ui-font-color1: white;\n",
       "                    --jp-layout-color2: #454545;\n",
       "                    background-color: #383838;\n",
       "                }\n",
       "\n",
       "                .geemap-dark .jupyter-button {\n",
       "                    --jp-layout-color3: #383838;\n",
       "                }\n",
       "\n",
       "                .geemap-colab {\n",
       "                    background-color: var(--colab-primary-surface-color, white);\n",
       "                }\n",
       "\n",
       "                .geemap-colab .jupyter-button {\n",
       "                    --jp-layout-color3: var(--colab-primary-surface-color, white);\n",
       "                }\n",
       "            </style>\n",
       "            "
      ],
      "text/plain": [
       "<IPython.core.display.HTML object>"
      ]
     },
     "metadata": {},
     "output_type": "display_data"
    }
   ],
   "source": [
    "start_year = 2023\n",
    "end_year = 2024\n",
    "\n",
    "# COPERNICUS DEM (30m)\n",
    "dem = ee.ImageCollection('COPERNICUS/DEM/GLO30').mosaic().select('DEM')\n",
    "\n",
    "dem = dem.reproject(crs='EPSG:4326', scale=10)\n",
    "slope = ee.Terrain.slope(dem)\n",
    "\n",
    "# Visualization parameters for Elevation\n",
    "vis_params_elevation = {\n",
    "    'min': 0,\n",
    "    'max': 3000,\n",
    "    'palette': ['#00FFFF', '#0000FF', '#008000', '#FFFF00', '#FF0000', '#800000']\n",
    "}\n",
    "\n",
    "# Visualization parameters for slope\n",
    "vis_params_slope = {\n",
    "    'min': 0,\n",
    "    'max': 60,\n",
    "    #'palette': ['#00FF00', '#FFFF00', '#FFA500', '#FF0000']\n",
    "}\n",
    "\n",
    "Map.addLayer(dem.clip(study_area), vis_params_elevation, \"DEM\")\n",
    "Map.addLayer(slope.clip(study_area), vis_params_slope, \"slope\")\n"
   ]
  },
  {
   "cell_type": "code",
   "execution_count": 66,
   "id": "e83e9090",
   "metadata": {},
   "outputs": [
    {
     "data": {
      "text/html": [
       "\n",
       "            <style>\n",
       "                .geemap-dark {\n",
       "                    --jp-widgets-color: white;\n",
       "                    --jp-widgets-label-color: white;\n",
       "                    --jp-ui-font-color1: white;\n",
       "                    --jp-layout-color2: #454545;\n",
       "                    background-color: #383838;\n",
       "                }\n",
       "\n",
       "                .geemap-dark .jupyter-button {\n",
       "                    --jp-layout-color3: #383838;\n",
       "                }\n",
       "\n",
       "                .geemap-colab {\n",
       "                    background-color: var(--colab-primary-surface-color, white);\n",
       "                }\n",
       "\n",
       "                .geemap-colab .jupyter-button {\n",
       "                    --jp-layout-color3: var(--colab-primary-surface-color, white);\n",
       "                }\n",
       "            </style>\n",
       "            "
      ],
      "text/plain": [
       "<IPython.core.display.HTML object>"
      ]
     },
     "metadata": {},
     "output_type": "display_data"
    }
   ],
   "source": [
    "terraclimate_precip = ee.ImageCollection('IDAHO_EPSCOR/TERRACLIMATE') \\\n",
    "    .filter(ee.Filter.calendarRange(start_year, end_year, 'year')) \\\n",
    "    .select('pr')\n",
    "    \n",
    "# Sum monthly precip per year\n",
    "def annual_precip(year):\n",
    "    year = ee.Number(year)\n",
    "    year_images = terraclimate_precip.filter(ee.Filter.calendarRange(year, year, 'year'))\n",
    "    annual = year_images.sum().set('year', year)\n",
    "    return annual\n",
    "\n",
    "years = ee.List.sequence(start_year, end_year)\n",
    "annual_precip_collection = ee.ImageCollection(years.map(annual_precip))\n",
    "\n",
    "# Mean of annual totals over 2 years\n",
    "mean_annual_precip = annual_precip_collection.mean()\n",
    "\n",
    "# Visualization for Precipitation\n",
    "vis_params_precipitation = {\n",
    "    'min': 0,\n",
    "    'max': 2000,\n",
    "    'palette': ['#f7fbff', '#6baed6', '#08306b']\n",
    "}\n"
   ]
  },
  {
   "cell_type": "code",
   "execution_count": 71,
   "id": "0246fe1e",
   "metadata": {},
   "outputs": [
    {
     "data": {
      "text/html": [
       "\n",
       "            <style>\n",
       "                .geemap-dark {\n",
       "                    --jp-widgets-color: white;\n",
       "                    --jp-widgets-label-color: white;\n",
       "                    --jp-ui-font-color1: white;\n",
       "                    --jp-layout-color2: #454545;\n",
       "                    background-color: #383838;\n",
       "                }\n",
       "\n",
       "                .geemap-dark .jupyter-button {\n",
       "                    --jp-layout-color3: #383838;\n",
       "                }\n",
       "\n",
       "                .geemap-colab {\n",
       "                    background-color: var(--colab-primary-surface-color, white);\n",
       "                }\n",
       "\n",
       "                .geemap-colab .jupyter-button {\n",
       "                    --jp-layout-color3: var(--colab-primary-surface-color, white);\n",
       "                }\n",
       "            </style>\n",
       "            "
      ],
      "text/plain": [
       "<IPython.core.display.HTML object>"
      ]
     },
     "metadata": {},
     "output_type": "display_data"
    }
   ],
   "source": [
    "\n",
    "terraclimate_temp = ee.ImageCollection('IDAHO_EPSCOR/TERRACLIMATE') \\\n",
    "    .filter(ee.Filter.calendarRange(start_year, end_year, 'year')) \\\n",
    "    .select(['tmmx', 'tmmn'])\n",
    "    \n",
    "def monthly_avg(img):\n",
    "    tavg = img.expression(\n",
    "        '(tmmx + tmmn) / 2',\n",
    "        {\n",
    "            'tmmx': img.select('tmmx'),\n",
    "            'tmmn': img.select('tmmn')\n",
    "        }\n",
    "    ).rename('tavg')\n",
    "    return tavg.copyProperties(img, img.propertyNames())\n",
    "\n",
    "tavg_collection = terraclimate_temp.map(monthly_avg)\n",
    "\n",
    "# Average across all months\n",
    "mean_annual_temp = tavg_collection.mean()\n",
    "\n",
    "# Visualization for Temperature\n",
    "vis_params_temperature = {\n",
    "    'min': -10,\n",
    "    'max': 30,\n",
    "    'palette': ['#313695', '#74add1', '#fdae61', '#a50026']\n",
    "}"
   ]
  },
  {
   "cell_type": "code",
   "execution_count": 74,
   "id": "170e070e",
   "metadata": {},
   "outputs": [
    {
     "data": {
      "text/html": [
       "\n",
       "            <style>\n",
       "                .geemap-dark {\n",
       "                    --jp-widgets-color: white;\n",
       "                    --jp-widgets-label-color: white;\n",
       "                    --jp-ui-font-color1: white;\n",
       "                    --jp-layout-color2: #454545;\n",
       "                    background-color: #383838;\n",
       "                }\n",
       "\n",
       "                .geemap-dark .jupyter-button {\n",
       "                    --jp-layout-color3: #383838;\n",
       "                }\n",
       "\n",
       "                .geemap-colab {\n",
       "                    background-color: var(--colab-primary-surface-color, white);\n",
       "                }\n",
       "\n",
       "                .geemap-colab .jupyter-button {\n",
       "                    --jp-layout-color3: var(--colab-primary-surface-color, white);\n",
       "                }\n",
       "            </style>\n",
       "            "
      ],
      "text/plain": [
       "<IPython.core.display.HTML object>"
      ]
     },
     "metadata": {},
     "output_type": "display_data"
    }
   ],
   "source": [
    "Map.addLayer(mean_annual_temp.clip(study_area), vis_params_temperature, 'Terra Temp')\n",
    "Map.addLayer(mean_annual_precip.clip(study_area), vis_params_precipitation, 'Terra Precip')"
   ]
  },
  {
   "cell_type": "code",
   "execution_count": 89,
   "id": "54af930f",
   "metadata": {},
   "outputs": [
    {
     "data": {
      "text/html": [
       "\n",
       "            <style>\n",
       "                .geemap-dark {\n",
       "                    --jp-widgets-color: white;\n",
       "                    --jp-widgets-label-color: white;\n",
       "                    --jp-ui-font-color1: white;\n",
       "                    --jp-layout-color2: #454545;\n",
       "                    background-color: #383838;\n",
       "                }\n",
       "\n",
       "                .geemap-dark .jupyter-button {\n",
       "                    --jp-layout-color3: #383838;\n",
       "                }\n",
       "\n",
       "                .geemap-colab {\n",
       "                    background-color: var(--colab-primary-surface-color, white);\n",
       "                }\n",
       "\n",
       "                .geemap-colab .jupyter-button {\n",
       "                    --jp-layout-color3: var(--colab-primary-surface-color, white);\n",
       "                }\n",
       "            </style>\n",
       "            "
      ],
      "text/plain": [
       "<IPython.core.display.HTML object>"
      ]
     },
     "metadata": {},
     "output_type": "display_data"
    },
    {
     "ename": "EEException",
     "evalue": "User memory limit exceeded.",
     "output_type": "error",
     "traceback": [
      "\u001b[31m---------------------------------------------------------------------------\u001b[39m",
      "\u001b[31mHttpError\u001b[39m                                 Traceback (most recent call last)",
      "\u001b[36mFile \u001b[39m\u001b[32mc:\\Users\\harre\\miniconda3\\envs\\rs_environ\\Lib\\site-packages\\ee\\data.py:408\u001b[39m, in \u001b[36m_execute_cloud_call\u001b[39m\u001b[34m(call, num_retries)\u001b[39m\n\u001b[32m    407\u001b[39m \u001b[38;5;28;01mtry\u001b[39;00m:\n\u001b[32m--> \u001b[39m\u001b[32m408\u001b[39m   \u001b[38;5;28;01mreturn\u001b[39;00m call.execute(num_retries=num_retries)\n\u001b[32m    409\u001b[39m \u001b[38;5;28;01mexcept\u001b[39;00m googleapiclient.errors.HttpError \u001b[38;5;28;01mas\u001b[39;00m e:\n",
      "\u001b[36mFile \u001b[39m\u001b[32mc:\\Users\\harre\\miniconda3\\envs\\rs_environ\\Lib\\site-packages\\googleapiclient\\_helpers.py:130\u001b[39m, in \u001b[36mpositional.<locals>.positional_decorator.<locals>.positional_wrapper\u001b[39m\u001b[34m(*args, **kwargs)\u001b[39m\n\u001b[32m    129\u001b[39m         logger.warning(message)\n\u001b[32m--> \u001b[39m\u001b[32m130\u001b[39m \u001b[38;5;28;01mreturn\u001b[39;00m wrapped(*args, **kwargs)\n",
      "\u001b[36mFile \u001b[39m\u001b[32mc:\\Users\\harre\\miniconda3\\envs\\rs_environ\\Lib\\site-packages\\googleapiclient\\http.py:938\u001b[39m, in \u001b[36mHttpRequest.execute\u001b[39m\u001b[34m(self, http, num_retries)\u001b[39m\n\u001b[32m    937\u001b[39m \u001b[38;5;28;01mif\u001b[39;00m resp.status >= \u001b[32m300\u001b[39m:\n\u001b[32m--> \u001b[39m\u001b[32m938\u001b[39m     \u001b[38;5;28;01mraise\u001b[39;00m HttpError(resp, content, uri=\u001b[38;5;28mself\u001b[39m.uri)\n\u001b[32m    939\u001b[39m \u001b[38;5;28;01mreturn\u001b[39;00m \u001b[38;5;28mself\u001b[39m.postproc(resp, content)\n",
      "\u001b[31mHttpError\u001b[39m: <HttpError 400 when requesting https://earthengine.googleapis.com/v1/projects/ee-christopherharrellgis/value:compute?prettyPrint=false&alt=json returned \"User memory limit exceeded.\". Details: \"User memory limit exceeded.\">",
      "\nDuring handling of the above exception, another exception occurred:\n",
      "\u001b[31mEEException\u001b[39m                               Traceback (most recent call last)",
      "\u001b[36mFile \u001b[39m\u001b[32mc:\\Users\\harre\\miniconda3\\envs\\rs_environ\\Lib\\site-packages\\ipywidgets\\widgets\\widget.py:773\u001b[39m, in \u001b[36mWidget._handle_msg\u001b[39m\u001b[34m(self, msg)\u001b[39m\n\u001b[32m    771\u001b[39m         \u001b[38;5;28;01mif\u001b[39;00m \u001b[33m'\u001b[39m\u001b[33mbuffer_paths\u001b[39m\u001b[33m'\u001b[39m \u001b[38;5;129;01min\u001b[39;00m data:\n\u001b[32m    772\u001b[39m             _put_buffers(state, data[\u001b[33m'\u001b[39m\u001b[33mbuffer_paths\u001b[39m\u001b[33m'\u001b[39m], msg[\u001b[33m'\u001b[39m\u001b[33mbuffers\u001b[39m\u001b[33m'\u001b[39m])\n\u001b[32m--> \u001b[39m\u001b[32m773\u001b[39m         \u001b[38;5;28mself\u001b[39m.set_state(state)\n\u001b[32m    775\u001b[39m \u001b[38;5;66;03m# Handle a state request.\u001b[39;00m\n\u001b[32m    776\u001b[39m \u001b[38;5;28;01melif\u001b[39;00m method == \u001b[33m'\u001b[39m\u001b[33mrequest_state\u001b[39m\u001b[33m'\u001b[39m:\n",
      "\u001b[36mFile \u001b[39m\u001b[32mc:\\Users\\harre\\miniconda3\\envs\\rs_environ\\Lib\\site-packages\\ipywidgets\\widgets\\widget.py:650\u001b[39m, in \u001b[36mWidget.set_state\u001b[39m\u001b[34m(self, sync_data)\u001b[39m\n\u001b[32m    645\u001b[39m         \u001b[38;5;28mself\u001b[39m._send(msg, buffers=echo_buffers)\n\u001b[32m    647\u001b[39m \u001b[38;5;66;03m# The order of these context managers is important. Properties must\u001b[39;00m\n\u001b[32m    648\u001b[39m \u001b[38;5;66;03m# be locked when the hold_trait_notification context manager is\u001b[39;00m\n\u001b[32m    649\u001b[39m \u001b[38;5;66;03m# released and notifications are fired.\u001b[39;00m\n\u001b[32m--> \u001b[39m\u001b[32m650\u001b[39m \u001b[38;5;28;01mwith\u001b[39;00m \u001b[38;5;28mself\u001b[39m._lock_property(**sync_data), \u001b[38;5;28mself\u001b[39m.hold_trait_notifications():\n\u001b[32m    651\u001b[39m     \u001b[38;5;28;01mfor\u001b[39;00m name \u001b[38;5;129;01min\u001b[39;00m sync_data:\n\u001b[32m    652\u001b[39m         \u001b[38;5;28;01mif\u001b[39;00m name \u001b[38;5;129;01min\u001b[39;00m \u001b[38;5;28mself\u001b[39m.keys:\n",
      "\u001b[36mFile \u001b[39m\u001b[32mc:\\Users\\harre\\miniconda3\\envs\\rs_environ\\Lib\\contextlib.py:148\u001b[39m, in \u001b[36m_GeneratorContextManager.__exit__\u001b[39m\u001b[34m(self, typ, value, traceback)\u001b[39m\n\u001b[32m    146\u001b[39m \u001b[38;5;28;01mif\u001b[39;00m typ \u001b[38;5;129;01mis\u001b[39;00m \u001b[38;5;28;01mNone\u001b[39;00m:\n\u001b[32m    147\u001b[39m     \u001b[38;5;28;01mtry\u001b[39;00m:\n\u001b[32m--> \u001b[39m\u001b[32m148\u001b[39m         \u001b[38;5;28mnext\u001b[39m(\u001b[38;5;28mself\u001b[39m.gen)\n\u001b[32m    149\u001b[39m     \u001b[38;5;28;01mexcept\u001b[39;00m \u001b[38;5;167;01mStopIteration\u001b[39;00m:\n\u001b[32m    150\u001b[39m         \u001b[38;5;28;01mreturn\u001b[39;00m \u001b[38;5;28;01mFalse\u001b[39;00m\n",
      "\u001b[36mFile \u001b[39m\u001b[32mc:\\Users\\harre\\miniconda3\\envs\\rs_environ\\Lib\\site-packages\\traitlets\\traitlets.py:1510\u001b[39m, in \u001b[36mHasTraits.hold_trait_notifications\u001b[39m\u001b[34m(self)\u001b[39m\n\u001b[32m   1508\u001b[39m \u001b[38;5;28;01mfor\u001b[39;00m changes \u001b[38;5;129;01min\u001b[39;00m cache.values():\n\u001b[32m   1509\u001b[39m     \u001b[38;5;28;01mfor\u001b[39;00m change \u001b[38;5;129;01min\u001b[39;00m changes:\n\u001b[32m-> \u001b[39m\u001b[32m1510\u001b[39m         \u001b[38;5;28mself\u001b[39m.notify_change(change)\n",
      "\u001b[36mFile \u001b[39m\u001b[32mc:\\Users\\harre\\miniconda3\\envs\\rs_environ\\Lib\\site-packages\\ipywidgets\\widgets\\widget.py:701\u001b[39m, in \u001b[36mWidget.notify_change\u001b[39m\u001b[34m(self, change)\u001b[39m\n\u001b[32m    698\u001b[39m     \u001b[38;5;28;01mif\u001b[39;00m name \u001b[38;5;129;01min\u001b[39;00m \u001b[38;5;28mself\u001b[39m.keys \u001b[38;5;129;01mand\u001b[39;00m \u001b[38;5;28mself\u001b[39m._should_send_property(name, \u001b[38;5;28mgetattr\u001b[39m(\u001b[38;5;28mself\u001b[39m, name)):\n\u001b[32m    699\u001b[39m         \u001b[38;5;66;03m# Send new state to front-end\u001b[39;00m\n\u001b[32m    700\u001b[39m         \u001b[38;5;28mself\u001b[39m.send_state(key=name)\n\u001b[32m--> \u001b[39m\u001b[32m701\u001b[39m \u001b[38;5;28msuper\u001b[39m().notify_change(change)\n",
      "\u001b[36mFile \u001b[39m\u001b[32mc:\\Users\\harre\\miniconda3\\envs\\rs_environ\\Lib\\site-packages\\traitlets\\traitlets.py:1525\u001b[39m, in \u001b[36mHasTraits.notify_change\u001b[39m\u001b[34m(self, change)\u001b[39m\n\u001b[32m   1523\u001b[39m \u001b[38;5;28;01mdef\u001b[39;00m\u001b[38;5;250m \u001b[39m\u001b[34mnotify_change\u001b[39m(\u001b[38;5;28mself\u001b[39m, change: Bunch) -> \u001b[38;5;28;01mNone\u001b[39;00m:\n\u001b[32m   1524\u001b[39m \u001b[38;5;250m    \u001b[39m\u001b[33;03m\"\"\"Notify observers of a change event\"\"\"\u001b[39;00m\n\u001b[32m-> \u001b[39m\u001b[32m1525\u001b[39m     \u001b[38;5;28;01mreturn\u001b[39;00m \u001b[38;5;28mself\u001b[39m._notify_observers(change)\n",
      "\u001b[36mFile \u001b[39m\u001b[32mc:\\Users\\harre\\miniconda3\\envs\\rs_environ\\Lib\\site-packages\\traitlets\\traitlets.py:1568\u001b[39m, in \u001b[36mHasTraits._notify_observers\u001b[39m\u001b[34m(self, event)\u001b[39m\n\u001b[32m   1565\u001b[39m \u001b[38;5;28;01melif\u001b[39;00m \u001b[38;5;28misinstance\u001b[39m(c, EventHandler) \u001b[38;5;129;01mand\u001b[39;00m c.name \u001b[38;5;129;01mis\u001b[39;00m \u001b[38;5;129;01mnot\u001b[39;00m \u001b[38;5;28;01mNone\u001b[39;00m:\n\u001b[32m   1566\u001b[39m     c = \u001b[38;5;28mgetattr\u001b[39m(\u001b[38;5;28mself\u001b[39m, c.name)\n\u001b[32m-> \u001b[39m\u001b[32m1568\u001b[39m c(event)\n",
      "\u001b[36mFile \u001b[39m\u001b[32mc:\\Users\\harre\\miniconda3\\envs\\rs_environ\\Lib\\site-packages\\ipywidgets\\widgets\\widget_selection.py:236\u001b[39m, in \u001b[36m_Selection._propagate_index\u001b[39m\u001b[34m(self, change)\u001b[39m\n\u001b[32m    234\u001b[39m     \u001b[38;5;28mself\u001b[39m.label = label\n\u001b[32m    235\u001b[39m \u001b[38;5;28;01mif\u001b[39;00m \u001b[38;5;28mself\u001b[39m.value \u001b[38;5;129;01mis\u001b[39;00m \u001b[38;5;129;01mnot\u001b[39;00m value:\n\u001b[32m--> \u001b[39m\u001b[32m236\u001b[39m     \u001b[38;5;28mself\u001b[39m.value = value\n",
      "\u001b[36mFile \u001b[39m\u001b[32mc:\\Users\\harre\\miniconda3\\envs\\rs_environ\\Lib\\site-packages\\traitlets\\traitlets.py:716\u001b[39m, in \u001b[36mTraitType.__set__\u001b[39m\u001b[34m(self, obj, value)\u001b[39m\n\u001b[32m    714\u001b[39m \u001b[38;5;28;01mif\u001b[39;00m \u001b[38;5;28mself\u001b[39m.read_only:\n\u001b[32m    715\u001b[39m     \u001b[38;5;28;01mraise\u001b[39;00m TraitError(\u001b[33m'\u001b[39m\u001b[33mThe \u001b[39m\u001b[33m\"\u001b[39m\u001b[38;5;132;01m%s\u001b[39;00m\u001b[33m\"\u001b[39m\u001b[33m trait is read-only.\u001b[39m\u001b[33m'\u001b[39m % \u001b[38;5;28mself\u001b[39m.name)\n\u001b[32m--> \u001b[39m\u001b[32m716\u001b[39m \u001b[38;5;28mself\u001b[39m.set(obj, value)\n",
      "\u001b[36mFile \u001b[39m\u001b[32mc:\\Users\\harre\\miniconda3\\envs\\rs_environ\\Lib\\site-packages\\traitlets\\traitlets.py:706\u001b[39m, in \u001b[36mTraitType.set\u001b[39m\u001b[34m(self, obj, value)\u001b[39m\n\u001b[32m    702\u001b[39m     silent = \u001b[38;5;28;01mFalse\u001b[39;00m\n\u001b[32m    703\u001b[39m \u001b[38;5;28;01mif\u001b[39;00m silent \u001b[38;5;129;01mis\u001b[39;00m \u001b[38;5;129;01mnot\u001b[39;00m \u001b[38;5;28;01mTrue\u001b[39;00m:\n\u001b[32m    704\u001b[39m     \u001b[38;5;66;03m# we explicitly compare silent to True just in case the equality\u001b[39;00m\n\u001b[32m    705\u001b[39m     \u001b[38;5;66;03m# comparison above returns something other than True/False\u001b[39;00m\n\u001b[32m--> \u001b[39m\u001b[32m706\u001b[39m     obj._notify_trait(\u001b[38;5;28mself\u001b[39m.name, old_value, new_value)\n",
      "\u001b[36mFile \u001b[39m\u001b[32mc:\\Users\\harre\\miniconda3\\envs\\rs_environ\\Lib\\site-packages\\traitlets\\traitlets.py:1513\u001b[39m, in \u001b[36mHasTraits._notify_trait\u001b[39m\u001b[34m(self, name, old_value, new_value)\u001b[39m\n\u001b[32m   1512\u001b[39m \u001b[38;5;28;01mdef\u001b[39;00m\u001b[38;5;250m \u001b[39m\u001b[34m_notify_trait\u001b[39m(\u001b[38;5;28mself\u001b[39m, name: \u001b[38;5;28mstr\u001b[39m, old_value: t.Any, new_value: t.Any) -> \u001b[38;5;28;01mNone\u001b[39;00m:\n\u001b[32m-> \u001b[39m\u001b[32m1513\u001b[39m     \u001b[38;5;28mself\u001b[39m.notify_change(\n\u001b[32m   1514\u001b[39m         Bunch(\n\u001b[32m   1515\u001b[39m             name=name,\n\u001b[32m   1516\u001b[39m             old=old_value,\n\u001b[32m   1517\u001b[39m             new=new_value,\n\u001b[32m   1518\u001b[39m             owner=\u001b[38;5;28mself\u001b[39m,\n\u001b[32m   1519\u001b[39m             \u001b[38;5;28mtype\u001b[39m=\u001b[33m\"\u001b[39m\u001b[33mchange\u001b[39m\u001b[33m\"\u001b[39m,\n\u001b[32m   1520\u001b[39m         )\n\u001b[32m   1521\u001b[39m     )\n",
      "\u001b[36mFile \u001b[39m\u001b[32mc:\\Users\\harre\\miniconda3\\envs\\rs_environ\\Lib\\site-packages\\ipywidgets\\widgets\\widget.py:701\u001b[39m, in \u001b[36mWidget.notify_change\u001b[39m\u001b[34m(self, change)\u001b[39m\n\u001b[32m    698\u001b[39m     \u001b[38;5;28;01mif\u001b[39;00m name \u001b[38;5;129;01min\u001b[39;00m \u001b[38;5;28mself\u001b[39m.keys \u001b[38;5;129;01mand\u001b[39;00m \u001b[38;5;28mself\u001b[39m._should_send_property(name, \u001b[38;5;28mgetattr\u001b[39m(\u001b[38;5;28mself\u001b[39m, name)):\n\u001b[32m    699\u001b[39m         \u001b[38;5;66;03m# Send new state to front-end\u001b[39;00m\n\u001b[32m    700\u001b[39m         \u001b[38;5;28mself\u001b[39m.send_state(key=name)\n\u001b[32m--> \u001b[39m\u001b[32m701\u001b[39m \u001b[38;5;28msuper\u001b[39m().notify_change(change)\n",
      "\u001b[36mFile \u001b[39m\u001b[32mc:\\Users\\harre\\miniconda3\\envs\\rs_environ\\Lib\\site-packages\\traitlets\\traitlets.py:1525\u001b[39m, in \u001b[36mHasTraits.notify_change\u001b[39m\u001b[34m(self, change)\u001b[39m\n\u001b[32m   1523\u001b[39m \u001b[38;5;28;01mdef\u001b[39;00m\u001b[38;5;250m \u001b[39m\u001b[34mnotify_change\u001b[39m(\u001b[38;5;28mself\u001b[39m, change: Bunch) -> \u001b[38;5;28;01mNone\u001b[39;00m:\n\u001b[32m   1524\u001b[39m \u001b[38;5;250m    \u001b[39m\u001b[33;03m\"\"\"Notify observers of a change event\"\"\"\u001b[39;00m\n\u001b[32m-> \u001b[39m\u001b[32m1525\u001b[39m     \u001b[38;5;28;01mreturn\u001b[39;00m \u001b[38;5;28mself\u001b[39m._notify_observers(change)\n",
      "\u001b[36mFile \u001b[39m\u001b[32mc:\\Users\\harre\\miniconda3\\envs\\rs_environ\\Lib\\site-packages\\traitlets\\traitlets.py:1568\u001b[39m, in \u001b[36mHasTraits._notify_observers\u001b[39m\u001b[34m(self, event)\u001b[39m\n\u001b[32m   1565\u001b[39m \u001b[38;5;28;01melif\u001b[39;00m \u001b[38;5;28misinstance\u001b[39m(c, EventHandler) \u001b[38;5;129;01mand\u001b[39;00m c.name \u001b[38;5;129;01mis\u001b[39;00m \u001b[38;5;129;01mnot\u001b[39;00m \u001b[38;5;28;01mNone\u001b[39;00m:\n\u001b[32m   1566\u001b[39m     c = \u001b[38;5;28mgetattr\u001b[39m(\u001b[38;5;28mself\u001b[39m, c.name)\n\u001b[32m-> \u001b[39m\u001b[32m1568\u001b[39m c(event)\n",
      "\u001b[36mFile \u001b[39m\u001b[32mc:\\Users\\harre\\miniconda3\\envs\\rs_environ\\Lib\\site-packages\\geemap\\map_widgets.py:1748\u001b[39m, in \u001b[36m_RasterLayerEditor._value_stretch_changed\u001b[39m\u001b[34m(self, value)\u001b[39m\n\u001b[32m   1746\u001b[39m     \u001b[38;5;28mself\u001b[39m._stretch_button.disabled = \u001b[38;5;28;01mFalse\u001b[39;00m\n\u001b[32m   1747\u001b[39m     \u001b[38;5;28mself\u001b[39m._value_range_slider.disabled = \u001b[38;5;28;01mTrue\u001b[39;00m\n\u001b[32m-> \u001b[39m\u001b[32m1748\u001b[39m     \u001b[38;5;28mself\u001b[39m._update_stretch()\n\u001b[32m   1749\u001b[39m \u001b[38;5;28;01melse\u001b[39;00m:\n\u001b[32m   1750\u001b[39m     \u001b[38;5;28mself\u001b[39m._stretch_button.disabled = \u001b[38;5;28;01mTrue\u001b[39;00m\n",
      "\u001b[36mFile \u001b[39m\u001b[32mc:\\Users\\harre\\miniconda3\\envs\\rs_environ\\Lib\\site-packages\\geemap\\map_widgets.py:1760\u001b[39m, in \u001b[36m_RasterLayerEditor._update_stretch\u001b[39m\u001b[34m(self, *args)\u001b[39m\n\u001b[32m   1758\u001b[39m map_bbox = ee.Geometry.BBox(west=w, south=s, east=e, north=n)\n\u001b[32m   1759\u001b[39m vis_bands = \u001b[38;5;28mset\u001b[39m((b.value \u001b[38;5;28;01mfor\u001b[39;00m b \u001b[38;5;129;01min\u001b[39;00m \u001b[38;5;28mself\u001b[39m._bands_hbox.children))\n\u001b[32m-> \u001b[39m\u001b[32m1760\u001b[39m min_val, max_val = \u001b[38;5;28mself\u001b[39m._ee_layer.calculate_vis_minmax(\n\u001b[32m   1761\u001b[39m     bounds=map_bbox, bands=vis_bands, **stretch_params\n\u001b[32m   1762\u001b[39m )\n\u001b[32m   1764\u001b[39m \u001b[38;5;66;03m# Update in the correct order to avoid setting an invalid range\u001b[39;00m\n\u001b[32m   1765\u001b[39m \u001b[38;5;28;01mif\u001b[39;00m min_val > \u001b[38;5;28mself\u001b[39m._value_range_slider.max:\n",
      "\u001b[36mFile \u001b[39m\u001b[32mc:\\Users\\harre\\miniconda3\\envs\\rs_environ\\Lib\\site-packages\\geemap\\ee_tile_layers.py:294\u001b[39m, in \u001b[36mEELeafletTileLayer.calculate_vis_minmax\u001b[39m\u001b[34m(self, bounds, bands, percent, sigma)\u001b[39m\n\u001b[32m    292\u001b[39m bands = \u001b[38;5;28mself\u001b[39m._ee_object.bandNames() \u001b[38;5;28;01mif\u001b[39;00m bands \u001b[38;5;129;01mis\u001b[39;00m \u001b[38;5;28;01mNone\u001b[39;00m \u001b[38;5;28;01melse\u001b[39;00m \u001b[38;5;28mtuple\u001b[39m(bands)\n\u001b[32m    293\u001b[39m \u001b[38;5;28;01mtry\u001b[39;00m:\n\u001b[32m--> \u001b[39m\u001b[32m294\u001b[39m     min_val, max_val, std, mean = \u001b[38;5;28mself\u001b[39m._calculate_vis_stats(\n\u001b[32m    295\u001b[39m         bounds=bounds, bands=bands\n\u001b[32m    296\u001b[39m     )\n\u001b[32m    297\u001b[39m \u001b[38;5;28;01mexcept\u001b[39;00m \u001b[38;5;167;01mValueError\u001b[39;00m:\n\u001b[32m    298\u001b[39m     \u001b[38;5;28;01mreturn\u001b[39;00m (\u001b[32m0\u001b[39m, \u001b[32m0\u001b[39m)\n",
      "\u001b[36mFile \u001b[39m\u001b[32mc:\\Users\\harre\\miniconda3\\envs\\rs_environ\\Lib\\site-packages\\geemap\\ee_tile_layers.py:256\u001b[39m, in \u001b[36mEELeafletTileLayer._calculate_vis_stats\u001b[39m\u001b[34m(self, bounds, bands)\u001b[39m\n\u001b[32m    226\u001b[39m \u001b[38;5;250m\u001b[39m\u001b[33;03m\"\"\"Calculate stats used for visualization parameters.\u001b[39;00m\n\u001b[32m    227\u001b[39m \n\u001b[32m    228\u001b[39m \u001b[33;03mStats are calculated consistently with the Code Editor visualization parameters,\u001b[39;00m\n\u001b[32m   (...)\u001b[39m\u001b[32m    238\u001b[39m \u001b[33;03m        deviation, and mean values across the specified bands.\u001b[39;00m\n\u001b[32m    239\u001b[39m \u001b[33;03m\"\"\"\u001b[39;00m\n\u001b[32m    240\u001b[39m stat_reducer = (\n\u001b[32m    241\u001b[39m     ee.Reducer.minMax()\n\u001b[32m    242\u001b[39m     .combine(ee.Reducer.mean().unweighted(), sharedInputs=\u001b[38;5;28;01mTrue\u001b[39;00m)\n\u001b[32m    243\u001b[39m     .combine(ee.Reducer.stdDev(), sharedInputs=\u001b[38;5;28;01mTrue\u001b[39;00m)\n\u001b[32m    244\u001b[39m )\n\u001b[32m    246\u001b[39m stats = (\n\u001b[32m    247\u001b[39m     \u001b[38;5;28mself\u001b[39m._ee_object.select(bands)\n\u001b[32m    248\u001b[39m     .reduceRegion(\n\u001b[32m    249\u001b[39m         reducer=stat_reducer,\n\u001b[32m    250\u001b[39m         geometry=bounds,\n\u001b[32m    251\u001b[39m         bestEffort=\u001b[38;5;28;01mTrue\u001b[39;00m,\n\u001b[32m    252\u001b[39m         maxPixels=\u001b[32m10_000\u001b[39m,\n\u001b[32m    253\u001b[39m         crs=\u001b[33m\"\u001b[39m\u001b[33mSR-ORG:6627\u001b[39m\u001b[33m\"\u001b[39m,\n\u001b[32m    254\u001b[39m         scale=\u001b[32m1\u001b[39m,\n\u001b[32m    255\u001b[39m     )\n\u001b[32m--> \u001b[39m\u001b[32m256\u001b[39m     .getInfo()\n\u001b[32m    257\u001b[39m )\n\u001b[32m    259\u001b[39m mins, maxs, stds, means = [\n\u001b[32m    260\u001b[39m     {v \u001b[38;5;28;01mfor\u001b[39;00m k, v \u001b[38;5;129;01min\u001b[39;00m stats.items() \u001b[38;5;28;01mif\u001b[39;00m k.endswith(stat) \u001b[38;5;129;01mand\u001b[39;00m v \u001b[38;5;129;01mis\u001b[39;00m \u001b[38;5;129;01mnot\u001b[39;00m \u001b[38;5;28;01mNone\u001b[39;00m}\n\u001b[32m    261\u001b[39m     \u001b[38;5;28;01mfor\u001b[39;00m stat \u001b[38;5;129;01min\u001b[39;00m (\u001b[33m\"\u001b[39m\u001b[33m_min\u001b[39m\u001b[33m\"\u001b[39m, \u001b[33m\"\u001b[39m\u001b[33m_max\u001b[39m\u001b[33m\"\u001b[39m, \u001b[33m\"\u001b[39m\u001b[33m_stdDev\u001b[39m\u001b[33m\"\u001b[39m, \u001b[33m\"\u001b[39m\u001b[33m_mean\u001b[39m\u001b[33m\"\u001b[39m)\n\u001b[32m    262\u001b[39m ]\n\u001b[32m    263\u001b[39m \u001b[38;5;28;01mif\u001b[39;00m \u001b[38;5;28many\u001b[39m(\u001b[38;5;28mlen\u001b[39m(vals) == \u001b[32m0\u001b[39m \u001b[38;5;28;01mfor\u001b[39;00m vals \u001b[38;5;129;01min\u001b[39;00m (mins, maxs, stds, means)):\n",
      "\u001b[36mFile \u001b[39m\u001b[32mc:\\Users\\harre\\miniconda3\\envs\\rs_environ\\Lib\\site-packages\\ee\\computedobject.py:107\u001b[39m, in \u001b[36mComputedObject.getInfo\u001b[39m\u001b[34m(self)\u001b[39m\n\u001b[32m    101\u001b[39m \u001b[38;5;28;01mdef\u001b[39;00m\u001b[38;5;250m \u001b[39m\u001b[34mgetInfo\u001b[39m(\u001b[38;5;28mself\u001b[39m) -> Optional[Any]:\n\u001b[32m    102\u001b[39m \u001b[38;5;250m  \u001b[39m\u001b[33;03m\"\"\"Fetch and return information about this object.\u001b[39;00m\n\u001b[32m    103\u001b[39m \n\u001b[32m    104\u001b[39m \u001b[33;03m  Returns:\u001b[39;00m\n\u001b[32m    105\u001b[39m \u001b[33;03m    The object can evaluate to anything.\u001b[39;00m\n\u001b[32m    106\u001b[39m \u001b[33;03m  \"\"\"\u001b[39;00m\n\u001b[32m--> \u001b[39m\u001b[32m107\u001b[39m   \u001b[38;5;28;01mreturn\u001b[39;00m data.computeValue(\u001b[38;5;28mself\u001b[39m)\n",
      "\u001b[36mFile \u001b[39m\u001b[32mc:\\Users\\harre\\miniconda3\\envs\\rs_environ\\Lib\\site-packages\\ee\\data.py:1128\u001b[39m, in \u001b[36mcomputeValue\u001b[39m\u001b[34m(obj)\u001b[39m\n\u001b[32m   1125\u001b[39m body = {\u001b[33m'\u001b[39m\u001b[33mexpression\u001b[39m\u001b[33m'\u001b[39m: serializer.encode(obj, for_cloud_api=\u001b[38;5;28;01mTrue\u001b[39;00m)}\n\u001b[32m   1126\u001b[39m _maybe_populate_workload_tag(body)\n\u001b[32m-> \u001b[39m\u001b[32m1128\u001b[39m \u001b[38;5;28;01mreturn\u001b[39;00m _execute_cloud_call(\n\u001b[32m   1129\u001b[39m     _get_cloud_projects()\n\u001b[32m   1130\u001b[39m     .value()\n\u001b[32m   1131\u001b[39m     .compute(body=body, project=_get_projects_path(), prettyPrint=\u001b[38;5;28;01mFalse\u001b[39;00m)\n\u001b[32m   1132\u001b[39m )[\u001b[33m'\u001b[39m\u001b[33mresult\u001b[39m\u001b[33m'\u001b[39m]\n",
      "\u001b[36mFile \u001b[39m\u001b[32mc:\\Users\\harre\\miniconda3\\envs\\rs_environ\\Lib\\site-packages\\ee\\data.py:410\u001b[39m, in \u001b[36m_execute_cloud_call\u001b[39m\u001b[34m(call, num_retries)\u001b[39m\n\u001b[32m    408\u001b[39m   \u001b[38;5;28;01mreturn\u001b[39;00m call.execute(num_retries=num_retries)\n\u001b[32m    409\u001b[39m \u001b[38;5;28;01mexcept\u001b[39;00m googleapiclient.errors.HttpError \u001b[38;5;28;01mas\u001b[39;00m e:\n\u001b[32m--> \u001b[39m\u001b[32m410\u001b[39m   \u001b[38;5;28;01mraise\u001b[39;00m _translate_cloud_exception(e)\n",
      "\u001b[31mEEException\u001b[39m: User memory limit exceeded."
     ]
    }
   ],
   "source": [
    "def mask_s2_clouds(image):\n",
    "    \"\"\"Masks clouds and cirrus based on the QA60 band.\"\"\"\n",
    "    qa = image.select('QA60')\n",
    "    cloud_bit_mask = 1 << 10  # Bit 10: clouds\n",
    "    cirrus_bit_mask = 1 << 11  # Bit 11: cirrus\n",
    "    mask = qa.bitwiseAnd(cloud_bit_mask).eq(0).And(\n",
    "        qa.bitwiseAnd(cirrus_bit_mask).eq(0)\n",
    "    )\n",
    "    return image.updateMask(mask).divide(10000).copyProperties(image, image.propertyNames())\n",
    "\n",
    "s2 = ee.ImageCollection('COPERNICUS/S2_SR') \\\n",
    "        .filterDate(f'{start_year}-01-01', f'{end_year}-12-31') \\\n",
    "        .filter(ee.Filter.lt('CLOUDY_PIXEL_PERCENTAGE', 20)) \\\n",
    "        .map(mask_s2_clouds)\n",
    "\n",
    "def calc_ndvi(img):\n",
    "    ndvi = img.normalizedDifference(['B8', 'B4']).rename('NDVI')\n",
    "    return ndvi.copyProperties(img, img.propertyNames())\n",
    "\n",
    "def calc_evi(img):\n",
    "    evi = img.expression(\n",
    "        '2.5 * ((NIR - RED) / (NIR + 6 * RED - 7.5 * BLUE + 1))',\n",
    "        {\n",
    "            'NIR': img.select('B8'),\n",
    "            'RED': img.select('B4'),\n",
    "            'BLUE': img.select('B2')\n",
    "        }\n",
    "    ).rename('EVI')\n",
    "    return evi.copyProperties(img, img.propertyNames())\n",
    "\n",
    "ndvi_collection = s2.map(calc_ndvi)\n",
    "mean_ndvi = ndvi_collection.mean()\n",
    "\n",
    "evi_collection = s2.map(calc_evi)\n",
    "mean_evi = evi_collection.mean()\n",
    "\n",
    "# EVI visualization\n",
    "evi_vis = {\n",
    "    'min': 0.0,\n",
    "    'max': 1.0,\n",
    "    'palette': ['purple', 'white', 'green']\n",
    "}\n",
    "\n",
    "# NDVI visualization\n",
    "ndvi_vis = {\n",
    "    'min': 0.0,\n",
    "    'max': 1.0,\n",
    "    'palette': ['blue', 'white', 'green']\n",
    "}\n",
    "\n",
    "Map.addLayer(mean_ndvi.clip(study_area), ndvi_vis, 'NDVI')\n",
    "Map.addLayer(mean_evi.clip(study_area), evi_vis, 'EVI')"
   ]
  },
  {
   "cell_type": "code",
   "execution_count": null,
   "id": "555cc5c8",
   "metadata": {},
   "outputs": [],
   "source": []
  }
 ],
 "metadata": {
  "kernelspec": {
   "display_name": "rs_environ",
   "language": "python",
   "name": "python3"
  },
  "language_info": {
   "codemirror_mode": {
    "name": "ipython",
    "version": 3
   },
   "file_extension": ".py",
   "mimetype": "text/x-python",
   "name": "python",
   "nbconvert_exporter": "python",
   "pygments_lexer": "ipython3",
   "version": "3.13.2"
  }
 },
 "nbformat": 4,
 "nbformat_minor": 5
}
