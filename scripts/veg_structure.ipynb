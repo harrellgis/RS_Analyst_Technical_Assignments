{
 "cells": [
  {
   "cell_type": "code",
   "execution_count": 3,
   "id": "0aab4ced",
   "metadata": {},
   "outputs": [],
   "source": [
    "import os\n",
    "import numpy as np\n",
    "\n",
    "import laspy\n",
    "#import open3d as o3d\n",
    "\n",
    "import rasterio\n",
    "from rasterio.transform import from_origin\n",
    "from scipy.stats import entropy"
   ]
  },
  {
   "cell_type": "markdown",
   "id": "f7cd1423",
   "metadata": {},
   "source": [
    "#### Data Imports"
   ]
  },
  {
   "cell_type": "code",
   "execution_count": null,
   "id": "959169bc",
   "metadata": {},
   "outputs": [],
   "source": [
    "las_file = \"C:/Users/harre/RS_Technical/ALS_pointcloud.las\" #Replace with local filepath\n",
    "downsampled_dir = \"C:/Users/harre/RS_Technical/\"\n",
    "downsampled_las = \"../structural_metrics/data/downsampled.las\"\n",
    "output_dir = \"../structural_metrics/data\"\n",
    "grid_resolution = 1.0\n",
    "crs_epsg = \"EPSG:32637\"  # <-- update with your CRS"
   ]
  },
  {
   "cell_type": "code",
   "execution_count": 5,
   "id": "9ddb7a53",
   "metadata": {},
   "outputs": [
    {
     "data": {
      "text/plain": [
       "'C:\\\\Users\\\\harre\\\\RS_Analyst_Technical_Assignments\\\\structural_metrics\\\\data\\\\downsampled.las'"
      ]
     },
     "execution_count": 5,
     "metadata": {},
     "output_type": "execute_result"
    }
   ],
   "source": [
    "os.path.realpath(\"../structural_metrics/data/downsampled.las\")"
   ]
  },
  {
   "cell_type": "code",
   "execution_count": 6,
   "id": "5846b92a",
   "metadata": {},
   "outputs": [],
   "source": [
    "def voxel_downsample_las(las_file: str, output_dir: str, voxel_size: float = 1.0):\n",
    "    \"\"\"\n",
    "    Downsamples a LAS/LAZ file using voxel grid filtering and saves the result.\n",
    "    \n",
    "    Parameters:\n",
    "        las_file (str): Path to the input .las or .laz file.\n",
    "        output_dir (str): Directory to save the downsampled .las file.\n",
    "        voxel_size (float): Voxel size in meters. Default is 1.0.\n",
    "        \n",
    "    Output:\n",
    "        Saves a downsampled LAS file as 'downsampled.las' in output_dir.\n",
    "    \"\"\"\n",
    "    os.makedirs(output_dir, exist_ok=True)\n",
    "\n",
    "    print(f\"Reading: {las_file}\")\n",
    "    las = laspy.read(las_file)\n",
    "    points = np.vstack((las.x, las.y, las.z)).T\n",
    "    print(f\"Original point count: {points.shape[0]}\")\n",
    "\n",
    "    print(f\"Downsampling with voxel size: {voxel_size} m\")\n",
    "    pcd = o3d.geometry.PointCloud()\n",
    "    pcd.points = o3d.utility.Vector3dVector(points)\n",
    "    pcd_down = pcd.voxel_down_sample(voxel_size=voxel_size)\n",
    "    down_points = np.asarray(pcd_down.points)\n",
    "    print(f\"Downsampled point count: {down_points.shape[0]}\")\n",
    "\n",
    "    # Create new LAS object and copy header info\n",
    "    down_las = laspy.create(point_format=las.header.point_format, file_version=las.header.version)\n",
    "    \n",
    "    # Set coordinates\n",
    "    down_las.x = down_points[:, 0]\n",
    "    down_las.y = down_points[:, 1]\n",
    "    down_las.z = down_points[:, 2]\n",
    "\n",
    "    # Save file\n",
    "    out_path = os.path.join(output_dir, \"downsampled.las\")\n",
    "    down_las.write(out_path)\n",
    "    print(f\"Downsampled LAS file saved to: {out_path}\")"
   ]
  },
  {
   "cell_type": "code",
   "execution_count": null,
   "id": "829b1ae1",
   "metadata": {},
   "outputs": [],
   "source": [
    "#downsampled = voxel_downsample_las(las_file=las_file, output_dir=downsampled_dir)"
   ]
  },
  {
   "cell_type": "code",
   "execution_count": 9,
   "id": "1ce70ba4",
   "metadata": {},
   "outputs": [
    {
     "name": "stdout",
     "output_type": "stream",
     "text": [
      "File: <LasData(1.2, point fmt: <PointFormat(3, 0 bytes of extra dims)>, 2976899 points, 0 vlrs)>\n",
      "Point format: <PointFormat(3, 0 bytes of extra dims)>\n",
      "Point count: 2976899\n",
      "Bounds (XYZ):\n",
      "  X: 284777.74 to 285291.19\n",
      "  Y: 18664.83 to 20903.78\n",
      "  Z: 1797.07 to 1925.89\n",
      "\n",
      "Available dimensions:\n",
      "['X', 'Y', 'Z', 'intensity', 'return_number', 'number_of_returns', 'scan_direction_flag', 'edge_of_flight_line', 'classification', 'synthetic', 'key_point', 'withheld', 'scan_angle_rank', 'user_data', 'point_source_id', 'gps_time', 'red', 'green', 'blue']\n",
      "\n",
      "CRS not embedded in the LAS file.\n"
     ]
    }
   ],
   "source": [
    "# Read LAS file\n",
    "las = laspy.read(downsampled_las)\n",
    "\n",
    "def fetch_las_metadata(las_file: str):\n",
    "    \"\"\" Print basic metadata \"\"\"\n",
    "    print(f\"File: {las_file}\")\n",
    "    print(f\"Point format: {las.header.point_format}\")\n",
    "    print(f\"Point count: {las.header.point_count}\")\n",
    "    print(f\"Bounds (XYZ):\")\n",
    "    print(f\"  X: {las.header.min[0]} to {las.header.max[0]}\")\n",
    "    print(f\"  Y: {las.header.min[1]} to {las.header.max[1]}\")\n",
    "    print(f\"  Z: {las.header.min[2]} to {las.header.max[2]}\")\n",
    "\n",
    "    # Print available attributes (e.g., return number, intensity)\n",
    "    print(\"\\nAvailable dimensions:\")\n",
    "    print(list(las.point_format.dimension_names))\n",
    "\n",
    "\n",
    "    try:\n",
    "        crs = las.header.parse_crs()\n",
    "        if crs:\n",
    "            print(\"\\nCoordinate Reference System (CRS):\")\n",
    "            print(crs)\n",
    "        else:\n",
    "            print(\"\\nCRS not embedded in the LAS file.\")\n",
    "    except AttributeError:\n",
    "        print(\"\\nCRS extraction not supported for this LAS version or library version.\")\n",
    "\n",
    "fetch_las_metadata(las)"
   ]
  },
  {
   "cell_type": "code",
   "execution_count": 10,
   "id": "929f811b",
   "metadata": {},
   "outputs": [],
   "source": [
    "las = laspy.read(downsampled_las)\n",
    "\n",
    "x = las.x\n",
    "y = las.y\n",
    "z = las.z\n",
    "return_nums = las.return_number\n",
    "num_returns = las.number_of_returns"
   ]
  },
  {
   "cell_type": "code",
   "execution_count": 11,
   "id": "be8ae3a0",
   "metadata": {},
   "outputs": [],
   "source": [
    "xmin, ymin = np.min(x), np.min(y)\n",
    "xmax, ymax = np.max(x), np.max(y)\n",
    "\n",
    "ncols = int(np.ceil((xmax - xmin) / grid_resolution))\n",
    "nrows = int(np.ceil((ymax - ymin) / grid_resolution))\n",
    "\n",
    "def to_grid_coords(x, y):\n",
    "    col = ((x - xmin) / grid_resolution).astype(int)\n",
    "    row = ((ymax - y) / grid_resolution).astype(int)  # flip y-axis\n",
    "    return row, col\n",
    "\n",
    "rows, cols = to_grid_coords(x, y)"
   ]
  },
  {
   "cell_type": "code",
   "execution_count": 12,
   "id": "8fd4c6ee",
   "metadata": {},
   "outputs": [],
   "source": [
    "def init_grid():\n",
    "    return np.full((nrows, ncols), np.nan)\n",
    "\n",
    "chm = init_grid()\n",
    "height_sd = init_grid()\n",
    "p25 = init_grid()\n",
    "p50 = init_grid()\n",
    "p75 = init_grid()\n",
    "p95 = init_grid()\n",
    "mean_height = init_grid()\n",
    "canopy_cover = init_grid()\n",
    "vci = init_grid()\n",
    "height_entropy = init_grid()\n",
    "point_density = np.zeros((nrows, ncols))  # no NaN, count-based"
   ]
  },
  {
   "cell_type": "code",
   "execution_count": null,
   "id": "c44b6c57",
   "metadata": {},
   "outputs": [],
   "source": [
    "for r in range(nrows):\n",
    "    for c in range(ncols):\n",
    "        mask = (rows == r) & (cols == c)\n",
    "        if not np.any(mask):\n",
    "            continue\n",
    "\n",
    "        cell_z = z[mask]\n",
    "        if len(cell_z) == 0:\n",
    "            continue\n",
    "\n",
    "        cell_returns = return_nums[mask]\n",
    "        point_density[r, c] = len(cell_z)\n",
    "\n",
    "        chm[r, c] = np.max(cell_z)\n",
    "        height_sd[r, c] = np.std(cell_z)\n",
    "\n",
    "        # Canopy analysis (returns > 2m)\n",
    "        threshold = 2.0\n",
    "        above = cell_z[cell_z > threshold]\n",
    "        if len(above) > 0:\n",
    "            canopy_cover[r, c] = len(above) / len(cell_z)\n",
    "            mean_height[r, c] = np.mean(above)\n",
    "            p25[r, c] = np.percentile(above, 25)\n",
    "            p50[r, c] = np.percentile(above, 50)\n",
    "            p75[r, c] = np.percentile(above, 75)\n",
    "            p95[r, c] = np.percentile(above, 95)\n",
    "            mid = cell_z[(cell_z > 2) & (cell_z < 10)]\n",
    "            vci[r, c] = len(mid) / len(above) if len(above) > 0 else np.nan\n",
    "        else:\n",
    "            canopy_cover[r, c] = 0\n",
    "\n",
    "        # Entropy of height distribution\n",
    "        hist = np.histogram(cell_z, bins=5, range=(0, np.max(cell_z)))[0]\n",
    "        if hist.sum() > 0:\n",
    "            height_entropy[r, c] = entropy(hist)"
   ]
  },
  {
   "cell_type": "code",
   "execution_count": null,
   "id": "7a2d1280",
   "metadata": {},
   "outputs": [],
   "source": [
    "transform = from_origin(xmin, ymax, grid_resolution, grid_resolution)\n",
    "\n",
    "def save_raster(array, name):\n",
    "    path = os.path.join(output_dir, f\"{name}.tif\")\n",
    "    with rasterio.open(\n",
    "        path,\n",
    "        \"w\",\n",
    "        driver=\"GTiff\",\n",
    "        height=array.shape[0],\n",
    "        width=array.shape[1],\n",
    "        count=1,\n",
    "        dtype=\"float32\",\n",
    "        crs=crs_epsg,\n",
    "        transform=transform,\n",
    "        nodata=np.nan\n",
    "    ) as dst:\n",
    "        dst.write(array.astype(\"float32\"), 1)\n",
    "    print(f\"Saved: {path}\")"
   ]
  },
  {
   "cell_type": "code",
   "execution_count": null,
   "id": "5a0b4e1d",
   "metadata": {},
   "outputs": [],
   "source": [
    "# Save all metric rasters\n",
    "save_raster(chm, \"chm\")\n",
    "save_raster(height_sd, \"height_stddev\")\n",
    "save_raster(p25, \"height_p25\")\n",
    "save_raster(p50, \"height_p50\")\n",
    "save_raster(p75, \"height_p75\")\n",
    "save_raster(p95, \"height_p95\")\n",
    "save_raster(mean_height, \"mean_canopy_height\")\n",
    "save_raster(canopy_cover, \"canopy_cover\")\n",
    "save_raster(vci, \"vertical_complexity_index\")\n",
    "save_raster(height_entropy, \"height_entropy\")\n",
    "save_raster(point_density, \"point_density\")"
   ]
  }
 ],
 "metadata": {
  "kernelspec": {
   "display_name": "lidar",
   "language": "python",
   "name": "python3"
  },
  "language_info": {
   "codemirror_mode": {
    "name": "ipython",
    "version": 3
   },
   "file_extension": ".py",
   "mimetype": "text/x-python",
   "name": "python",
   "nbconvert_exporter": "python",
   "pygments_lexer": "ipython3",
   "version": "3.11.11"
  }
 },
 "nbformat": 4,
 "nbformat_minor": 5
}
